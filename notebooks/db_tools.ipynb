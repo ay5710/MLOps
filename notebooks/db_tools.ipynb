{
 "cells": [
  {
   "cell_type": "code",
   "execution_count": null,
   "id": "ce16e56a-39eb-45fd-a6ff-5264d6b91b38",
   "metadata": {},
   "outputs": [],
   "source": [
    "import os\n",
    "import pandas as pd\n",
    "\n",
    "os.chdir(os.path.expanduser(\"~/work/MLOps\"))\n",
    "from src.utils.s3 import s3\n",
    "from src.utils.db import PostgreSQLDatabase"
   ]
  },
  {
   "cell_type": "code",
   "execution_count": null,
   "id": "bd4a338c-4ed0-4a5a-a444-ba452bf034b0",
   "metadata": {},
   "outputs": [],
   "source": [
    "# It is possible to pass SQL commands directly instead of relying on the helper functions:\n",
    "with PostgreSQLDatabase() as db:\n",
    "    db.cursor.execute(\"SELECT * FROM movies WHERE movie_id = 'tt0029583';\")\n",
    "    query_results = db.cursor.fetchall()\n",
    "    print(f\"{query_results}\")"
   ]
  },
  {
   "cell_type": "markdown",
   "id": "5d20f904-889b-470d-9316-74505a23f718",
   "metadata": {},
   "source": [
    "# Summaries"
   ]
  },
  {
   "cell_type": "code",
   "execution_count": null,
   "id": "26ad5857-4218-4ec0-bcd6-8565f3303046",
   "metadata": {},
   "outputs": [],
   "source": [
    "with PostgreSQLDatabase() as db:\n",
    "    print(f\"{len(db.query_data(\"movies\"))} movies\")"
   ]
  },
  {
   "cell_type": "code",
   "execution_count": null,
   "id": "176e98c0-0e9d-4d3c-8fac-d217ede609c8",
   "metadata": {},
   "outputs": [],
   "source": [
    "# Raw reviews\n",
    "with PostgreSQLDatabase() as db:\n",
    "    print(f\"{len(db.query_data(\"reviews_raw\"))} total reviews\")\n",
    "\n",
    "with PostgreSQLDatabase() as db:\n",
    "    for movie_id, title in set((movie[0], movie[1]) for movie in db.query_data('movies')):\n",
    "        nb_reviews = len(db.query_data(\"reviews_raw\", condition=f\"movie_id = '{(movie_id)}'\"))\n",
    "        print(f\"{nb_reviews} review for {title}\")"
   ]
  },
  {
   "cell_type": "code",
   "execution_count": null,
   "id": "3ae31836-2536-4bf7-bf9b-65ff8917ab38",
   "metadata": {},
   "outputs": [],
   "source": [
    "# Analyzed reviews\n",
    "with PostgreSQLDatabase() as db:\n",
    "    print(f\"{len(db.query_data(\"reviews_sentiments\"))} total reviews\")\n",
    "\n",
    "with PostgreSQLDatabase() as db:\n",
    "    for movie_id, title in set((movie[0], movie[1]) for movie in db.query_data('movies')):\n",
    "        i = 0\n",
    "        for review_id in set(review[1] for review in db.query_data(\"reviews_raw\", condition=f\"movie_id = '{(movie_id)}'\")):\n",
    "            if db.query_data(\"reviews_sentiments\", condition=f\"review_id = '{(review_id)}'\"):\n",
    "                i += 1\n",
    "        print(f\"{i} analyzed review for {title}\")"
   ]
  },
  {
   "cell_type": "markdown",
   "id": "2f787f5c-f8cf-4c04-a5b6-6bb46ad00d6e",
   "metadata": {},
   "source": [
    "# Get tables"
   ]
  },
  {
   "cell_type": "code",
   "execution_count": null,
   "id": "07013578-a884-45c3-a558-16117bc7a893",
   "metadata": {
    "scrolled": true
   },
   "outputs": [],
   "source": [
    "with PostgreSQLDatabase() as db:\n",
    "    movies = db.query_data('movies')\n",
    "movies = pd.DataFrame(movies)\n",
    "column_names = {\n",
    "    'movie_id': 'VARCHAR(10) PRIMARY KEY',\n",
    "    'title': 'VARCHAR(250)',\n",
    "    'release_date': 'DATE',\n",
    "    'nb_reviews': 'INTEGER',\n",
    "    'scrapping_timestamp': 'TIMESTAMP'\n",
    "}\n",
    "movies.columns = column_names.keys()\n",
    "movies.style.hide(axis=\"index\")"
   ]
  },
  {
   "cell_type": "code",
   "execution_count": null,
   "id": "12231461-a137-488a-8047-cbde841328a2",
   "metadata": {
    "scrolled": true
   },
   "outputs": [],
   "source": [
    "with PostgreSQLDatabase() as db:\n",
    "    reviews_raw = db.query_data('reviews_raw')\n",
    "reviews_raw = pd.DataFrame(reviews_raw)\n",
    "column_names = {\n",
    "    'movie_id': 'VARCHAR(10) REFERENCES movies(movie_id) ON DELETE CASCADE',\n",
    "    'review_id': 'VARCHAR(10) PRIMARY KEY',\n",
    "    'author': 'VARCHAR(150)',\n",
    "    'title': 'VARCHAR(500)',\n",
    "    'text': 'TEXT',\n",
    "    'rating': 'INTEGER',\n",
    "    'date': 'DATE',\n",
    "    'upvotes': 'INTEGER',\n",
    "    'downvotes': 'INTEGER',\n",
    "    'last_update': 'TIMESTAMP',\n",
    "    'to_process': 'INTEGER'\n",
    "}\n",
    "reviews_raw.columns = column_names.keys()\n",
    "reviews_raw.head().style.hide(axis=\"index\")"
   ]
  },
  {
   "cell_type": "code",
   "execution_count": null,
   "id": "2347105b-a85a-4e19-a372-19d66ab22ed6",
   "metadata": {},
   "outputs": [],
   "source": [
    "with PostgreSQLDatabase() as db:\n",
    "    reviews_sentiments = db.query_data('reviews_sentiments')\n",
    "reviews_sentiments = pd.DataFrame(reviews_sentiments)\n",
    "column_names = {\n",
    "    'review_id': 'VARCHAR(10) PRIMARY KEY REFERENCES reviews_raw(review_id) ON DELETE CASCADE',\n",
    "    'author': 'VARCHAR(150)',\n",
    "    'story': 'INTEGER',\n",
    "    'acting': 'INTEGER',\n",
    "    'visuals': 'INTEGER',\n",
    "    'sounds': 'INTEGER',\n",
    "    'values': 'INTEGER',\n",
    "    'overall': 'INTEGER'\n",
    "}\n",
    "reviews_sentiments.columns = column_names.keys()\n",
    "reviews_sentiments.head().style.hide(axis=\"index\")"
   ]
  },
  {
   "cell_type": "code",
   "execution_count": null,
   "id": "967cbe10-b244-4d58-b008-edece4f892b5",
   "metadata": {},
   "outputs": [],
   "source": [
    "# Generate samples\n",
    "movies.to_csv(\"data/sample/movies.csv\", index=False)\n",
    "reviews_raw.to_csv(\"data/sample/reviews_raw.csv\", index=False)\n",
    "reviews_sentiments.to_csv(\"data/sample/reviews_sentiments.csv\", index=False)"
   ]
  },
  {
   "cell_type": "markdown",
   "id": "8baf64e4-2f6f-4af3-b265-1b4c6c2b1717",
   "metadata": {},
   "source": [
    "# Get values"
   ]
  },
  {
   "cell_type": "code",
   "execution_count": null,
   "id": "041ec868-1fa8-4045-bee0-ee61d23302f3",
   "metadata": {},
   "outputs": [],
   "source": [
    "with PostgreSQLDatabase() as db:\n",
    "    movies_id = [movie[0] for movie in db.query_data('movies')]\n",
    "print(movies_id)"
   ]
  },
  {
   "cell_type": "code",
   "execution_count": null,
   "id": "0bf9c330-9002-413b-a289-5bd2a7a534d9",
   "metadata": {},
   "outputs": [],
   "source": [
    "movie_id = 'tt0029583'\n",
    "with PostgreSQLDatabase() as db:\n",
    "    metadata = db.query_data(\"movies\", condition=f\"movie_id = '{(movie_id)}'\")\n",
    "print(metadata)"
   ]
  },
  {
   "cell_type": "markdown",
   "id": "59a514fc-a4e4-4d51-8db7-2322efeb659b",
   "metadata": {},
   "source": [
    "# Remove entries"
   ]
  },
  {
   "cell_type": "code",
   "execution_count": null,
   "id": "0da5f76c-33d7-4c98-b8f5-f405a2dee7d1",
   "metadata": {},
   "outputs": [],
   "source": [
    "with PostgreSQLDatabase() as db:\n",
    "    db.remove_data(\"movies\", \"movie_id\", \"tt0097874\", movie_id=None)"
   ]
  },
  {
   "cell_type": "code",
   "execution_count": null,
   "id": "35453be2-57b6-41a3-b6a1-75d894968922",
   "metadata": {},
   "outputs": [],
   "source": [
    "with PostgreSQLDatabase() as db:\n",
    "    db.remove_data(\"movies\", \"movie_id\", \"tt0097874\", movie_id=None)"
   ]
  }
 ],
 "metadata": {
  "kernelspec": {
   "display_name": "Python 3 (ipykernel)",
   "language": "python",
   "name": "python3"
  },
  "language_info": {
   "codemirror_mode": {
    "name": "ipython",
    "version": 3
   },
   "file_extension": ".py",
   "mimetype": "text/x-python",
   "name": "python",
   "nbconvert_exporter": "python",
   "pygments_lexer": "ipython3",
   "version": "3.12.9"
  }
 },
 "nbformat": 4,
 "nbformat_minor": 5
}
