{
 "cells": [
  {
   "cell_type": "markdown",
   "id": "ec5450f7-efcc-4266-b7d8-1b2d093ddc82",
   "metadata": {},
   "source": [
    "Write as a script taking the review_id as input, or a set of functions"
   ]
  },
  {
   "cell_type": "code",
   "execution_count": null,
   "id": "76fac7e4-7f97-4b30-a34f-305309cfef5c",
   "metadata": {},
   "outputs": [],
   "source": [
    "import ast\n",
    "import openai\n",
    "import os\n",
    "\n",
    "from dotenv import load_dotenv\n",
    "from openai import OpenAI\n",
    "from src.utils.db import PostgreSQLDatabase"
   ]
  },
  {
   "cell_type": "code",
   "execution_count": null,
   "id": "fc5e6275-fbc8-416e-bb5e-f9ea6c9f4066",
   "metadata": {},
   "outputs": [],
   "source": [
    "review_id = 1013303"
   ]
  },
  {
   "cell_type": "markdown",
   "id": "e3f3241d-0827-4587-9ab6-4d5f32636523",
   "metadata": {},
   "source": [
    "# Connect to the db"
   ]
  },
  {
   "cell_type": "code",
   "execution_count": null,
   "id": "f9872c3b-4635-49cb-9582-19c66edb5607",
   "metadata": {},
   "outputs": [],
   "source": [
    "db = PostgreSQLDatabase()\n",
    "db.connect()"
   ]
  },
  {
   "cell_type": "markdown",
   "id": "3306f8e9-aafc-4275-a08f-e5f255e98ca0",
   "metadata": {},
   "source": [
    "# Get review and build prompt"
   ]
  },
  {
   "cell_type": "code",
   "execution_count": null,
   "id": "0c69cd76-5471-44c5-b5d3-eca2a9f51808",
   "metadata": {},
   "outputs": [],
   "source": [
    "review = db.query_data('reviews_raw', condition=f'review_id = {review_id}')\n",
    "\n",
    "text = review[0][3] + f\"\\n\\n\" + review[0][4]\n",
    "\n",
    "prompt = f\"\"\"\n",
    "Instructions:\n",
    "Below is a movie review that I want you to analyze. \n",
    "For each of the following aspect, you must determine if it is mentioned in the review, and if it is, what is the corresponding sentiment on the following scale: *very negative*, *negative*, *neutral* (including mixed or contradictory sentiments), *positive*, *very positive*.\n",
    "- *Storytelling* (including characters and their development, narrative progression, plot twists, screenplay, dialogues, overall pacing)\n",
    "- *Acting performance* (including vocal, musical, danse, or stunt work if applicable)\n",
    "- *Cinematography and visual style* (including colors and lightening, set design, costumes, makeup, special effects, overall aesthetic of the film)\n",
    "- *Music and sound design* (including soundtrack and scores)\n",
    "- *Theme and values* (including the moral or political message, emotional resonance, cultural or societal impact)\n",
    "Your answer should take the form of a Python list with each aspect, whether it is mentioned, and the corresponding sentiment (which should be 'NA' if the aspect is not mentioned).\n",
    "Additionally, I want you to identify the overall sentiment about the movie that the review conveys: is the movie *excellent*, *good despite minor flaws*, *average*, *bad despite some qualities*, *terrible*. This overall sentiment should be appended to the previous list.\n",
    "You must return this list only, without any additional commentary. Your answer should have the following format (with example values):\n",
    " [('Storytelling', 'not mentioned', 'NA'), ('Acting performance', 'mentioned', 'good'), ('Cinematography and visual style', 'mentioned', 'very negative'), ('Music and sound design', 'mentioned', 'very good'), ('Theme and values', 'not mentioned', 'NA'), ('Overall', 'average')]\n",
    "\n",
    "Now the review:\n",
    "{text}\n",
    "\"\"\""
   ]
  },
  {
   "cell_type": "markdown",
   "id": "5d782ceb-579e-49b1-a47f-f02e1f0ffae2",
   "metadata": {},
   "source": [
    "# Send prompt"
   ]
  },
  {
   "cell_type": "code",
   "execution_count": null,
   "id": "6a2ef2df-60bc-487a-a761-33d118fac62b",
   "metadata": {},
   "outputs": [],
   "source": [
    "load_dotenv()\n",
    "openai.api_key = os.getenv('OPENAI_API_KEY')"
   ]
  },
  {
   "cell_type": "code",
   "execution_count": null,
   "id": "7b6a94a6-8f63-45a6-98e0-e7f915a54718",
   "metadata": {},
   "outputs": [],
   "source": [
    "client = OpenAI()\n",
    "\n",
    "def get_GPT_answer(prompt):    \n",
    "    try:\n",
    "        completion = client.chat.completions.create(\n",
    "            model = \"gpt-4o-mini\",\n",
    "            messages = [{\"role\": \"user\", \"content\": prompt}]\n",
    "        )\n",
    "        return \"request worked\", completion\n",
    "\n",
    "    except Exception as e:\n",
    "        return \"request failed\", str(e)"
   ]
  },
  {
   "cell_type": "code",
   "execution_count": null,
   "id": "402dd87f-38bb-477d-b174-39cd0baaa24f",
   "metadata": {},
   "outputs": [],
   "source": [
    "answer = get_GPT_answer(prompt)"
   ]
  },
  {
   "cell_type": "code",
   "execution_count": null,
   "id": "a2bba9ce-724f-49cf-ba12-6d8163a75083",
   "metadata": {},
   "outputs": [],
   "source": [
    "results = ast.literal_eval(answer[1].choices[0].message.content)"
   ]
  },
  {
   "cell_type": "code",
   "execution_count": null,
   "id": "ace345ea-f940-49a4-937b-355a50e75c7b",
   "metadata": {},
   "outputs": [],
   "source": [
    "results"
   ]
  },
  {
   "cell_type": "markdown",
   "id": "bfffda9e-0fa7-4085-8177-a44361309102",
   "metadata": {},
   "source": [
    "# Write to DB"
   ]
  },
  {
   "cell_type": "code",
   "execution_count": null,
   "id": "a318484a-b3e0-48f1-be30-66ed2b5e3754",
   "metadata": {},
   "outputs": [],
   "source": [
    "# Sentiment to integer mapping\n",
    "sentiment_mapping = {\n",
    "    'very negative': -2,\n",
    "    'negative': -1,\n",
    "    'neutral': 0,\n",
    "    'positive': 1,\n",
    "    'very positive': 2,\n",
    "    'awful': -2,\n",
    "    'bad despite some qualities': -1,\n",
    "    'average': 0,\n",
    "    'good despite minor flaws': 1,\n",
    "    'excellent': 2,\n",
    "    'NA': None\n",
    "}\n",
    "\n",
    "mapped_values = [None] * 6\n",
    "\n",
    "# Map aspect-based sentiments\n",
    "for i, (label, _, sentiment) in enumerate(results[:5]):\n",
    "    if sentiment in sentiment_mapping:\n",
    "        mapped_values[i] = sentiment_mapping[sentiment]\n",
    "\n",
    "# Map overall sentiment\n",
    "label, sentiment = results[5]\n",
    "if sentiment in sentiment_mapping:\n",
    "    mapped_values[5] = sentiment_mapping[sentiment]\n",
    "\n",
    "data = [(review_id, *mapped_values)]"
   ]
  },
  {
   "cell_type": "code",
   "execution_count": null,
   "id": "7d899c19-9cff-4b23-8a01-5c47ffb3fa4b",
   "metadata": {},
   "outputs": [],
   "source": [
    "db.insert_data('reviews_sentiments', data)"
   ]
  },
  {
   "cell_type": "code",
   "execution_count": null,
   "id": "15ded466-440e-4041-859f-59588007190d",
   "metadata": {},
   "outputs": [],
   "source": [
    "print(\"\\nAll reviews:\")\n",
    "reviews = db.query_data('reviews_sentiments')\n",
    "for review in reviews:\n",
    "    print(review)"
   ]
  },
  {
   "cell_type": "code",
   "execution_count": null,
   "id": "a055b103-2beb-4765-a075-89da2afec241",
   "metadata": {},
   "outputs": [],
   "source": [
    "db.close_connection()"
   ]
  },
  {
   "cell_type": "code",
   "execution_count": null,
   "id": "4e95e5bf-1b72-4064-ad4f-868e8695a24e",
   "metadata": {},
   "outputs": [],
   "source": []
  }
 ],
 "metadata": {
  "kernelspec": {
   "display_name": "Python 3 (ipykernel)",
   "language": "python",
   "name": "python3"
  },
  "language_info": {
   "codemirror_mode": {
    "name": "ipython",
    "version": 3
   },
   "file_extension": ".py",
   "mimetype": "text/x-python",
   "name": "python",
   "nbconvert_exporter": "python",
   "pygments_lexer": "ipython3",
   "version": "3.12.9"
  }
 },
 "nbformat": 4,
 "nbformat_minor": 5
}
