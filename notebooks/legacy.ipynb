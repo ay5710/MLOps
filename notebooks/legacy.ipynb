{
 "cells": [
  {
   "cell_type": "code",
   "execution_count": null,
   "id": "ecbffb2d-2bb2-414a-aa14-4f4c4b8155dd",
   "metadata": {},
   "outputs": [],
   "source": [
    "import os\n",
    "import psycopg\n",
    "from dotenv import load_dotenv\n",
    "from psycopg import sql\n",
    "\n",
    "load_dotenv()\n",
    "connection_params = {\n",
    "            'dbname': os.getenv('DB_NAME'),\n",
    "            'user': os.getenv('DB_USER'),\n",
    "            'password': os.getenv('DB_PASSWORD'),\n",
    "            'host': os.getenv('DB_HOST'),\n",
    "            'port': 5432\n",
    "        }\n",
    "connection = psycopg.connect(**connection_params)\n",
    "cursor = connection.cursor()"
   ]
  },
  {
   "cell_type": "code",
   "execution_count": null,
   "id": "c72a9f05-1ca8-4640-a383-f76337e7803e",
   "metadata": {},
   "outputs": [],
   "source": [
    "### Movies ###\n",
    "# Store the data as a list of tuples\n",
    "movie_data = [(movie_id, movie_title, release_date, total_reviews, movie_scrap_time)]\n",
    "\n",
    "# Build the query\n",
    "upsert_query = sql.SQL(\"\"\"\n",
    "            INSERT INTO {} (movie_id, title, release_date, nb_reviews, scrapping_timestamp)\n",
    "            VALUES ({})\n",
    "            ON CONFLICT (movie_id) \n",
    "            DO UPDATE SET \n",
    "                nb_reviews = EXCLUDED.nb_reviews,\n",
    "                scrapping_timestamp = EXCLUDED.scrapping_timestamp\n",
    "            WHERE {}.nb_reviews <> EXCLUDED.nb_reviews\n",
    "        \"\"\").format(\n",
    "            sql.Identifier('movies'),\n",
    "            sql.SQL(', ').join(sql.Placeholder() * len(movie_data[0])),\n",
    "            sql.Identifier('movies')\n",
    "        )\n",
    "\n",
    "# Execute and commit\n",
    "cursor.executemany(upsert_query, movie_data)\n",
    "connection.commit()\n",
    "print(f\"[INFO] Upserted movie #{movie_id} into movies\")"
   ]
  },
  {
   "cell_type": "code",
   "execution_count": null,
   "id": "ff5b1835-af6f-41ca-a237-be34fac7dfd2",
   "metadata": {},
   "outputs": [],
   "source": [
    "### Reviews ###\n",
    "# Create a variable to identify reviews needing sentiment analysis\n",
    "reviews_df['to_process'] = 1\n",
    "\n",
    "# Store the data as a list of tuples, replacing NaN with None to avoid errors with postgreSQL\n",
    "reviews_list = [tuple(None if pd.isna(x) else x for x in row) for row in reviews_list]\n",
    "\n",
    "# Build the query\n",
    "query = \"\"\"\n",
    "INSERT INTO reviews_raw (movie_id, review_id, author, title, text, rating, date, upvotes, downvotes, scrapping_timestamp, to_process)\n",
    "VALUES (%s, %s, %s, %s, %s, %s, %s, %s, %s, %s, %s)\n",
    "ON CONFLICT (review_id) DO UPDATE\n",
    "SET \n",
    "    title = EXCLUDED.title,\n",
    "    text = EXCLUDED.text,\n",
    "    upvotes = EXCLUDED.upvotes,\n",
    "    downvotes = EXCLUDED.downvotes,\n",
    "    to_process = CASE \n",
    "        WHEN reviews_raw.title IS DISTINCT FROM EXCLUDED.title OR reviews_raw.text IS DISTINCT FROM EXCLUDED.text \n",
    "        THEN 1 \n",
    "        ELSE reviews_raw.to_process \n",
    "    END;\n",
    "\"\"\"\n",
    "\n",
    "# Execute and commit\n",
    "cursor.executemany(query, reviews_list)\n",
    "connection.commit()\n",
    "print(f\"[INFO] Upserted reviews for #{movie_id} into reviews_raw\")\n",
    "print(f\"Rows updated: {cursor.rowcount}\")"
   ]
  },
  {
   "cell_type": "code",
   "execution_count": null,
   "id": "e51e7e12-46fd-438a-a649-07ce75703929",
   "metadata": {},
   "outputs": [],
   "source": [
    "pd.read_sql(\"SELECT * FROM reviews_raw LIMIT 10;\", connection)"
   ]
  },
  {
   "cell_type": "code",
   "execution_count": null,
   "id": "19c8b4cf-d335-4990-81f0-873fc3897435",
   "metadata": {},
   "outputs": [],
   "source": [
    "connection.close()"
   ]
  },
  {
   "cell_type": "code",
   "execution_count": null,
   "id": "63357e59-be6b-48f6-906b-73122cc71af2",
   "metadata": {},
   "outputs": [],
   "source": [
    "connection.rollback()"
   ]
  },
  {
   "cell_type": "markdown",
   "id": "2b8f9ce1-e1c9-4a43-95db-7474bf125f54",
   "metadata": {},
   "source": []
  }
 ],
 "metadata": {
  "kernelspec": {
   "display_name": "Python 3 (ipykernel)",
   "language": "python",
   "name": "python3"
  },
  "language_info": {
   "codemirror_mode": {
    "name": "ipython",
    "version": 3
   },
   "file_extension": ".py",
   "mimetype": "text/x-python",
   "name": "python",
   "nbconvert_exporter": "python",
   "pygments_lexer": "ipython3",
   "version": "3.12.9"
  }
 },
 "nbformat": 4,
 "nbformat_minor": 5
}
