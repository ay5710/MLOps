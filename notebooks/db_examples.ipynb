{
 "cells": [
  {
   "cell_type": "code",
   "execution_count": 1,
   "id": "ce16e56a-39eb-45fd-a6ff-5264d6b91b38",
   "metadata": {},
   "outputs": [],
   "source": [
    "from src.utils.db import PostgreSQLDatabase"
   ]
  },
  {
   "cell_type": "code",
   "execution_count": 2,
   "id": "cf8c0829-f6b5-4cc6-8f8b-9bdb4d0468e6",
   "metadata": {},
   "outputs": [
    {
     "name": "stdout",
     "output_type": "stream",
     "text": [
      "[INFO] Successfully connected to postgresql-138372.user-maeldieudonne\n"
     ]
    }
   ],
   "source": [
    "db = PostgreSQLDatabase()\n",
    "db.connect()"
   ]
  },
  {
   "cell_type": "code",
   "execution_count": null,
   "id": "76ae989e-15c8-460b-8666-fb22143f75c4",
   "metadata": {},
   "outputs": [],
   "source": [
    "# If an operation fails, the db gets in an aborted transaction state where it is basically locked.\n",
    "# The failed operation must then be aborted with:\n",
    "db.connection.rollback()"
   ]
  },
  {
   "cell_type": "code",
   "execution_count": 9,
   "id": "be713b4a-f8a3-4da2-82a7-5fe7996f0284",
   "metadata": {},
   "outputs": [
    {
     "name": "stdout",
     "output_type": "stream",
     "text": [
      "[ERROR] Failed inserting data: duplicate key value violates unique constraint \"movies_pkey\"\n",
      "DETAIL:  Key (movie_id)=(0089885) already exists.\n"
     ]
    }
   ],
   "source": [
    "movie_id = '0089885'\n",
    "db.insert_data(\"movies\", data = [(movie_id, None, None, None, None)])"
   ]
  },
  {
   "cell_type": "code",
   "execution_count": 8,
   "id": "0e4ba624-71a4-46d9-9a8a-98ea542a621e",
   "metadata": {},
   "outputs": [
    {
     "data": {
      "text/html": [
       "<div>\n",
       "<style scoped>\n",
       "    .dataframe tbody tr th:only-of-type {\n",
       "        vertical-align: middle;\n",
       "    }\n",
       "\n",
       "    .dataframe tbody tr th {\n",
       "        vertical-align: top;\n",
       "    }\n",
       "\n",
       "    .dataframe thead th {\n",
       "        text-align: right;\n",
       "    }\n",
       "</style>\n",
       "<table border=\"1\" class=\"dataframe\">\n",
       "  <thead>\n",
       "    <tr style=\"text-align: right;\">\n",
       "      <th></th>\n",
       "      <th>0</th>\n",
       "      <th>1</th>\n",
       "      <th>2</th>\n",
       "      <th>3</th>\n",
       "      <th>4</th>\n",
       "    </tr>\n",
       "  </thead>\n",
       "  <tbody>\n",
       "    <tr>\n",
       "      <th>0</th>\n",
       "      <td>0219822</td>\n",
       "      <td>Human Nature</td>\n",
       "      <td>2001-09-12</td>\n",
       "      <td>82.0</td>\n",
       "      <td>2025-04-02 09:13:44</td>\n",
       "    </tr>\n",
       "    <tr>\n",
       "      <th>1</th>\n",
       "      <td>0089885</td>\n",
       "      <td>None</td>\n",
       "      <td>None</td>\n",
       "      <td>NaN</td>\n",
       "      <td>NaT</td>\n",
       "    </tr>\n",
       "  </tbody>\n",
       "</table>\n",
       "</div>"
      ],
      "text/plain": [
       "         0             1           2     3                   4\n",
       "0  0219822  Human Nature  2001-09-12  82.0 2025-04-02 09:13:44\n",
       "1  0089885          None        None   NaN                 NaT"
      ]
     },
     "execution_count": 8,
     "metadata": {},
     "output_type": "execute_result"
    }
   ],
   "source": [
    "import pandas as pd\n",
    "pd.DataFrame(db.query_data('movies'))"
   ]
  },
  {
   "cell_type": "markdown",
   "id": "3ed8847a-b1d5-48e3-a9bb-20f2bac7c256",
   "metadata": {},
   "source": [
    "# Delete reviews"
   ]
  },
  {
   "cell_type": "code",
   "execution_count": null,
   "id": "dc8cbeba-2d92-48fc-9a99-d043876a024b",
   "metadata": {},
   "outputs": [],
   "source": [
    "db.remove_data(\"reviews_raw\", \"review_id\", 10389367)"
   ]
  },
  {
   "cell_type": "markdown",
   "id": "d011556a-ad71-4e44-8741-ace90c204078",
   "metadata": {},
   "source": [
    "# Query"
   ]
  },
  {
   "cell_type": "code",
   "execution_count": null,
   "id": "2f994f88-5d1e-41b3-83db-2b3d8e9d250c",
   "metadata": {},
   "outputs": [],
   "source": [
    "print(\"\\nAll reviews:\")\n",
    "reviews = db.query_data('reviews_raw')\n",
    "for review in reviews:\n",
    "    print(review)"
   ]
  },
  {
   "cell_type": "code",
   "execution_count": null,
   "id": "71462858-863d-4aa1-bf2c-af15df9541ce",
   "metadata": {},
   "outputs": [],
   "source": [
    "print(\"\\nReviews for movie 6208148:\")\n",
    "reviews = db.query_data('reviews_raw', condition='rating > 1')\n",
    "for review in reviews:\n",
    "    print(review)"
   ]
  },
  {
   "cell_type": "markdown",
   "id": "9717d8d3-de28-4c4e-8425-dec7fb973cb0",
   "metadata": {},
   "source": [
    "# Close connection"
   ]
  },
  {
   "cell_type": "code",
   "execution_count": null,
   "id": "e51bd292-a9d2-4853-ab9d-dfae201d7bb3",
   "metadata": {},
   "outputs": [],
   "source": [
    "if 'db' in locals():\n",
    "    db.close_connection()"
   ]
  }
 ],
 "metadata": {
  "kernelspec": {
   "display_name": "Python 3 (ipykernel)",
   "language": "python",
   "name": "python3"
  },
  "language_info": {
   "codemirror_mode": {
    "name": "ipython",
    "version": 3
   },
   "file_extension": ".py",
   "mimetype": "text/x-python",
   "name": "python",
   "nbconvert_exporter": "python",
   "pygments_lexer": "ipython3",
   "version": "3.12.9"
  }
 },
 "nbformat": 4,
 "nbformat_minor": 5
}
