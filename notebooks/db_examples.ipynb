{
 "cells": [
  {
   "cell_type": "code",
   "execution_count": 4,
   "id": "ce16e56a-39eb-45fd-a6ff-5264d6b91b38",
   "metadata": {},
   "outputs": [],
   "source": [
    "from src.utils.db import PostgreSQLDatabase\n",
    "import pandas as pd"
   ]
  },
  {
   "cell_type": "code",
   "execution_count": 5,
   "id": "cf8c0829-f6b5-4cc6-8f8b-9bdb4d0468e6",
   "metadata": {},
   "outputs": [],
   "source": [
    "db = PostgreSQLDatabase()\n",
    "db.connect()"
   ]
  },
  {
   "cell_type": "code",
   "execution_count": null,
   "id": "76ae989e-15c8-460b-8666-fb22143f75c4",
   "metadata": {},
   "outputs": [],
   "source": [
    "# If an operation fails, the db gets in an aborted transaction state where it is basically locked.\n",
    "# The failed operation must then be aborted with:\n",
    "db.connection.rollback()"
   ]
  },
  {
   "cell_type": "code",
   "execution_count": null,
   "id": "be713b4a-f8a3-4da2-82a7-5fe7996f0284",
   "metadata": {},
   "outputs": [],
   "source": [
    "movie_id = '0089885'\n",
    "db.insert_data(\"movies\", data = [(movie_id, None, None, None, None)])"
   ]
  },
  {
   "cell_type": "code",
   "execution_count": null,
   "id": "e830d0f0-e008-4a22-a880-a3178724d438",
   "metadata": {},
   "outputs": [],
   "source": [
    "movie_id = '0089885'\n",
    "db.query_data(\"movies\", condition=f\"movie_id = '{(movie_id)}'\")"
   ]
  },
  {
   "cell_type": "code",
   "execution_count": null,
   "id": "66a80370-0207-4b64-a4b2-1fd206892577",
   "metadata": {},
   "outputs": [],
   "source": [
    "pd.DataFrame(db.query_data(\"reviews_raw\", condition=f\"movie_id = '{(movie_id)}'\"))"
   ]
  },
  {
   "cell_type": "code",
   "execution_count": null,
   "id": "0bf37edb-cc4b-4dc6-b140-6fd1181c0c15",
   "metadata": {},
   "outputs": [],
   "source": [
    "pd.DataFrame(db.query_data(\"reviews_sentiments\", condition=f\"review_id = '0689301'\"))"
   ]
  },
  {
   "cell_type": "markdown",
   "id": "3ed8847a-b1d5-48e3-a9bb-20f2bac7c256",
   "metadata": {},
   "source": [
    "# Delete reviews"
   ]
  },
  {
   "cell_type": "code",
   "execution_count": null,
   "id": "dc8cbeba-2d92-48fc-9a99-d043876a024b",
   "metadata": {},
   "outputs": [],
   "source": [
    "db.remove_data(\"reviews_raw\", \"review_id\", 10389367)"
   ]
  },
  {
   "cell_type": "markdown",
   "id": "d011556a-ad71-4e44-8741-ace90c204078",
   "metadata": {},
   "source": [
    "# Query"
   ]
  },
  {
   "cell_type": "code",
   "execution_count": null,
   "id": "74e76ad8-5b72-45a5-82af-bc176cc3220c",
   "metadata": {},
   "outputs": [],
   "source": [
    "python -m src.utils.manage_movies --add 0219822"
   ]
  },
  {
   "cell_type": "code",
   "execution_count": 23,
   "id": "44c313e3-4af3-4b59-8895-fa8a89477a06",
   "metadata": {},
   "outputs": [
    {
     "data": {
      "text/plain": [
       "[('0089885',\n",
       "  'Re-Animator',\n",
       "  datetime.date(1985, 10, 18),\n",
       "  307,\n",
       "  datetime.datetime(2025, 4, 7, 12, 7, 52)),\n",
       " ('0219822', None, None, None, None)]"
      ]
     },
     "execution_count": 23,
     "metadata": {},
     "output_type": "execute_result"
    }
   ],
   "source": [
    "db.query_data('movies')"
   ]
  },
  {
   "cell_type": "code",
   "execution_count": 24,
   "id": "56b96882-cb44-4dad-b9f1-62eecb473a6e",
   "metadata": {},
   "outputs": [
    {
     "data": {
      "text/plain": [
       "0"
      ]
     },
     "execution_count": 24,
     "metadata": {},
     "output_type": "execute_result"
    }
   ],
   "source": [
    "movie_id = 219822\n",
    "len(db.query_data(\"reviews_raw\", condition=f\"movie_id = '{movie_id}'\"))"
   ]
  },
  {
   "cell_type": "code",
   "execution_count": 25,
   "id": "8447eb4f-e4e4-4f01-a102-8bd211070bfe",
   "metadata": {},
   "outputs": [
    {
     "data": {
      "text/plain": [
       "302"
      ]
     },
     "execution_count": 25,
     "metadata": {},
     "output_type": "execute_result"
    }
   ],
   "source": [
    "len(db.query_data(\"reviews_sentiments\"))"
   ]
  },
  {
   "cell_type": "code",
   "execution_count": null,
   "id": "2f994f88-5d1e-41b3-83db-2b3d8e9d250c",
   "metadata": {},
   "outputs": [],
   "source": [
    "print(\"\\nAll reviews:\")\n",
    "reviews = db.query_data('reviews_raw')\n",
    "for review in reviews:\n",
    "    print(review)"
   ]
  },
  {
   "cell_type": "code",
   "execution_count": null,
   "id": "71462858-863d-4aa1-bf2c-af15df9541ce",
   "metadata": {},
   "outputs": [],
   "source": [
    "print(\"\\nReviews for movie 6208148:\")\n",
    "reviews = db.query_data('reviews_raw', condition='rating > 1')\n",
    "for review in reviews:\n",
    "    print(review)"
   ]
  },
  {
   "cell_type": "markdown",
   "id": "9717d8d3-de28-4c4e-8425-dec7fb973cb0",
   "metadata": {},
   "source": [
    "# Close connection"
   ]
  },
  {
   "cell_type": "code",
   "execution_count": null,
   "id": "e51bd292-a9d2-4853-ab9d-dfae201d7bb3",
   "metadata": {},
   "outputs": [],
   "source": [
    "if 'db' in locals():\n",
    "    db.close_connection()"
   ]
  }
 ],
 "metadata": {
  "kernelspec": {
   "display_name": "Python 3 (ipykernel)",
   "language": "python",
   "name": "python3"
  },
  "language_info": {
   "codemirror_mode": {
    "name": "ipython",
    "version": 3
   },
   "file_extension": ".py",
   "mimetype": "text/x-python",
   "name": "python",
   "nbconvert_exporter": "python",
   "pygments_lexer": "ipython3",
   "version": "3.12.9"
  }
 },
 "nbformat": 4,
 "nbformat_minor": 5
}
