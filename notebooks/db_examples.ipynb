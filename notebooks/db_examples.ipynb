{
 "cells": [
  {
   "cell_type": "code",
   "execution_count": null,
   "id": "ce16e56a-39eb-45fd-a6ff-5264d6b91b38",
   "metadata": {},
   "outputs": [],
   "source": [
    "import os\n",
    "import pandas as pd\n",
    "\n",
    "os.chdir(os.path.expanduser(\"~/work/MLOps\"))\n",
    "from src.utils.db import PostgreSQLDatabase"
   ]
  },
  {
   "cell_type": "code",
   "execution_count": null,
   "id": "cf8c0829-f6b5-4cc6-8f8b-9bdb4d0468e6",
   "metadata": {},
   "outputs": [],
   "source": [
    "db = PostgreSQLDatabase()\n",
    "db.connect()"
   ]
  },
  {
   "cell_type": "code",
   "execution_count": null,
   "id": "ee96af85-3aff-4d2f-ad89-02b71a1e235f",
   "metadata": {},
   "outputs": [],
   "source": [
    "# Movies\n",
    "[movie[1] for movie in db.query_data('movies')]"
   ]
  },
  {
   "cell_type": "code",
   "execution_count": null,
   "id": "2d7f077e-775b-4a63-82d2-53a75d807afa",
   "metadata": {},
   "outputs": [],
   "source": [
    "# Raw reviews\n",
    "print(f\"{len(db.query_data(\"reviews_raw\"))} total reviews\")\n",
    "\n",
    "for movie_id, title in set((movie[0], movie[1]) for movie in db.query_data('movies')):\n",
    "    nb_reviews = len(db.query_data(\"reviews_raw\", condition=f\"movie_id = '{(movie_id)}'\"))\n",
    "    print(f\"{nb_reviews} review for {title}\")"
   ]
  },
  {
   "cell_type": "code",
   "execution_count": null,
   "id": "8610a525-9642-4ef9-b79a-1a1819227e8f",
   "metadata": {},
   "outputs": [],
   "source": [
    "# Analyzed reviews\n",
    "print(f\"{len(db.query_data(\"reviews_sentiments\"))} total reviews\")\n",
    "\n",
    "for movie_id, title in set((movie[0], movie[1]) for movie in db.query_data('movies')):\n",
    "    i = 0\n",
    "    for review_id in set(review[1] for review in db.query_data(\"reviews_raw\", condition=f\"movie_id = '{(movie_id)}'\")):\n",
    "        if db.query_data(\"reviews_sentiments\", condition=f\"review_id = '{(review_id)}'\"):\n",
    "            i += 1\n",
    "    print(f\"{i} analyzed review for {title}\")"
   ]
  },
  {
   "cell_type": "code",
   "execution_count": null,
   "id": "e51bd292-a9d2-4853-ab9d-dfae201d7bb3",
   "metadata": {},
   "outputs": [],
   "source": [
    "# If an operation fails, the db gets in an aborted transaction state where it is basically locked.\n",
    "# The failed operation must then be aborted with:\n",
    "db.connection.rollback()"
   ]
  },
  {
   "cell_type": "code",
   "execution_count": null,
   "id": "e50844b6-5bd1-4e3f-8d91-dd14d030c76f",
   "metadata": {},
   "outputs": [],
   "source": [
    "db.close_connection()"
   ]
  }
 ],
 "metadata": {
  "kernelspec": {
   "display_name": "Python 3 (ipykernel)",
   "language": "python",
   "name": "python3"
  },
  "language_info": {
   "codemirror_mode": {
    "name": "ipython",
    "version": 3
   },
   "file_extension": ".py",
   "mimetype": "text/x-python",
   "name": "python",
   "nbconvert_exporter": "python",
   "pygments_lexer": "ipython3",
   "version": "3.12.9"
  }
 },
 "nbformat": 4,
 "nbformat_minor": 5
}
