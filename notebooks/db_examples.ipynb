{
 "cells": [
  {
   "cell_type": "code",
   "execution_count": 16,
   "id": "ce16e56a-39eb-45fd-a6ff-5264d6b91b38",
   "metadata": {},
   "outputs": [],
   "source": [
    "from src.utils.db import PostgreSQLDatabase\n",
    "import pandas as pd"
   ]
  },
  {
   "cell_type": "code",
   "execution_count": 17,
   "id": "cf8c0829-f6b5-4cc6-8f8b-9bdb4d0468e6",
   "metadata": {},
   "outputs": [
    {
     "name": "stdout",
     "output_type": "stream",
     "text": [
      "[INFO] Successfully connected to postgresql-138372.user-maeldieudonne\n"
     ]
    }
   ],
   "source": [
    "db = PostgreSQLDatabase()\n",
    "db.connect()"
   ]
  },
  {
   "cell_type": "code",
   "execution_count": null,
   "id": "76ae989e-15c8-460b-8666-fb22143f75c4",
   "metadata": {},
   "outputs": [],
   "source": [
    "# If an operation fails, the db gets in an aborted transaction state where it is basically locked.\n",
    "# The failed operation must then be aborted with:\n",
    "db.connection.rollback()"
   ]
  },
  {
   "cell_type": "code",
   "execution_count": 9,
   "id": "be713b4a-f8a3-4da2-82a7-5fe7996f0284",
   "metadata": {},
   "outputs": [
    {
     "name": "stdout",
     "output_type": "stream",
     "text": [
      "[ERROR] Failed inserting data: duplicate key value violates unique constraint \"movies_pkey\"\n",
      "DETAIL:  Key (movie_id)=(0089885) already exists.\n"
     ]
    }
   ],
   "source": [
    "movie_id = '0089885'\n",
    "db.insert_data(\"movies\", data = [(movie_id, None, None, None, None)])"
   ]
  },
  {
   "cell_type": "code",
   "execution_count": 28,
   "id": "e830d0f0-e008-4a22-a880-a3178724d438",
   "metadata": {},
   "outputs": [
    {
     "data": {
      "text/plain": [
       "[('0089885',\n",
       "  'Re-Animator',\n",
       "  datetime.date(1985, 10, 18),\n",
       "  307,\n",
       "  datetime.datetime(2025, 4, 2, 14, 11, 22))]"
      ]
     },
     "execution_count": 28,
     "metadata": {},
     "output_type": "execute_result"
    }
   ],
   "source": [
    "movie_id = '0089885'\n",
    "db.query_data(\"movies\", condition=f\"movie_id = '{(movie_id)}'\")"
   ]
  },
  {
   "cell_type": "code",
   "execution_count": 21,
   "id": "66a80370-0207-4b64-a4b2-1fd206892577",
   "metadata": {},
   "outputs": [
    {
     "data": {
      "text/html": [
       "<div>\n",
       "<style scoped>\n",
       "    .dataframe tbody tr th:only-of-type {\n",
       "        vertical-align: middle;\n",
       "    }\n",
       "\n",
       "    .dataframe tbody tr th {\n",
       "        vertical-align: top;\n",
       "    }\n",
       "\n",
       "    .dataframe thead th {\n",
       "        text-align: right;\n",
       "    }\n",
       "</style>\n",
       "<table border=\"1\" class=\"dataframe\">\n",
       "  <thead>\n",
       "    <tr style=\"text-align: right;\">\n",
       "      <th></th>\n",
       "      <th>0</th>\n",
       "      <th>1</th>\n",
       "      <th>2</th>\n",
       "      <th>3</th>\n",
       "      <th>4</th>\n",
       "      <th>5</th>\n",
       "      <th>6</th>\n",
       "      <th>7</th>\n",
       "      <th>8</th>\n",
       "      <th>9</th>\n",
       "      <th>10</th>\n",
       "    </tr>\n",
       "  </thead>\n",
       "  <tbody>\n",
       "    <tr>\n",
       "      <th>0</th>\n",
       "      <td>0089885</td>\n",
       "      <td>2920357</td>\n",
       "      <td>planktonrules</td>\n",
       "      <td>Not for the squeamish....and rather silly. But...</td>\n",
       "      <td>If \"Re-Animator\" was very realistic, it would ...</td>\n",
       "      <td>6.0</td>\n",
       "      <td>2013-12-11</td>\n",
       "      <td>9</td>\n",
       "      <td>6</td>\n",
       "      <td>2025-04-02 13:31:19</td>\n",
       "      <td>0</td>\n",
       "    </tr>\n",
       "    <tr>\n",
       "      <th>1</th>\n",
       "      <td>0089885</td>\n",
       "      <td>3447505</td>\n",
       "      <td>peefyn</td>\n",
       "      <td>Starts of with a plot, but then derails into e...</td>\n",
       "      <td>I feel I missed a lot of great movie experienc...</td>\n",
       "      <td>6.0</td>\n",
       "      <td>2016-04-07</td>\n",
       "      <td>2</td>\n",
       "      <td>0</td>\n",
       "      <td>2025-04-02 13:31:19</td>\n",
       "      <td>0</td>\n",
       "    </tr>\n",
       "    <tr>\n",
       "      <th>2</th>\n",
       "      <td>0089885</td>\n",
       "      <td>3106387</td>\n",
       "      <td>kclipper</td>\n",
       "      <td>The H.P. Lovecraft adaptation that defined hor...</td>\n",
       "      <td>Writer/Director, Stuart Gordon along with Prod...</td>\n",
       "      <td>10.0</td>\n",
       "      <td>2014-10-17</td>\n",
       "      <td>16</td>\n",
       "      <td>3</td>\n",
       "      <td>2025-04-02 13:31:19</td>\n",
       "      <td>0</td>\n",
       "    </tr>\n",
       "    <tr>\n",
       "      <th>3</th>\n",
       "      <td>0089885</td>\n",
       "      <td>9003535</td>\n",
       "      <td>ma-cortes</td>\n",
       "      <td>Cult horror movie about Doctor Herbert West/Je...</td>\n",
       "      <td>Based on the frightening story by the undisput...</td>\n",
       "      <td>7.0</td>\n",
       "      <td>2023-04-19</td>\n",
       "      <td>3</td>\n",
       "      <td>1</td>\n",
       "      <td>2025-04-02 13:31:19</td>\n",
       "      <td>0</td>\n",
       "    </tr>\n",
       "    <tr>\n",
       "      <th>4</th>\n",
       "      <td>0089885</td>\n",
       "      <td>3234999</td>\n",
       "      <td>grantss</td>\n",
       "      <td>Silly but entertaining</td>\n",
       "      <td>Silly but entertaining.\\nRe-animator started r...</td>\n",
       "      <td>5.0</td>\n",
       "      <td>2015-05-09</td>\n",
       "      <td>9</td>\n",
       "      <td>2</td>\n",
       "      <td>2025-04-02 13:31:19</td>\n",
       "      <td>0</td>\n",
       "    </tr>\n",
       "    <tr>\n",
       "      <th>...</th>\n",
       "      <td>...</td>\n",
       "      <td>...</td>\n",
       "      <td>...</td>\n",
       "      <td>...</td>\n",
       "      <td>...</td>\n",
       "      <td>...</td>\n",
       "      <td>...</td>\n",
       "      <td>...</td>\n",
       "      <td>...</td>\n",
       "      <td>...</td>\n",
       "      <td>...</td>\n",
       "    </tr>\n",
       "    <tr>\n",
       "      <th>297</th>\n",
       "      <td>0089885</td>\n",
       "      <td>10161754</td>\n",
       "      <td>Bart-James</td>\n",
       "      <td>CHEER! - (8 stars out of 10)</td>\n",
       "      <td>The stage curtains open ...\\nWhat would you ge...</td>\n",
       "      <td>8.0</td>\n",
       "      <td>2024-11-28</td>\n",
       "      <td>0</td>\n",
       "      <td>0</td>\n",
       "      <td>2025-04-02 13:31:19</td>\n",
       "      <td>0</td>\n",
       "    </tr>\n",
       "    <tr>\n",
       "      <th>298</th>\n",
       "      <td>0089885</td>\n",
       "      <td>0225621</td>\n",
       "      <td>zorbathegeek</td>\n",
       "      <td>A great travesty of an even better story</td>\n",
       "      <td>If I had not read H.P.Lovecraft's story before...</td>\n",
       "      <td>NaN</td>\n",
       "      <td>2003-04-25</td>\n",
       "      <td>0</td>\n",
       "      <td>0</td>\n",
       "      <td>2025-04-02 13:31:19</td>\n",
       "      <td>0</td>\n",
       "    </tr>\n",
       "    <tr>\n",
       "      <th>299</th>\n",
       "      <td>0089885</td>\n",
       "      <td>0225564</td>\n",
       "      <td>batzi8m1</td>\n",
       "      <td>Evil Doctor Brings the Dead Back to Live as Mu...</td>\n",
       "      <td>Yes, my evil assistant, we can re animate the ...</td>\n",
       "      <td>NaN</td>\n",
       "      <td>1999-11-10</td>\n",
       "      <td>0</td>\n",
       "      <td>0</td>\n",
       "      <td>2025-04-02 13:31:19</td>\n",
       "      <td>0</td>\n",
       "    </tr>\n",
       "    <tr>\n",
       "      <th>300</th>\n",
       "      <td>0089885</td>\n",
       "      <td>0225596</td>\n",
       "      <td>danielbr</td>\n",
       "      <td>Jeffrey Combs Is Great</td>\n",
       "      <td>Wild,over the top,trashy Frankenstein style ho...</td>\n",
       "      <td>NaN</td>\n",
       "      <td>1999-04-14</td>\n",
       "      <td>0</td>\n",
       "      <td>0</td>\n",
       "      <td>2025-04-02 13:31:19</td>\n",
       "      <td>0</td>\n",
       "    </tr>\n",
       "    <tr>\n",
       "      <th>301</th>\n",
       "      <td>0089885</td>\n",
       "      <td>0225638</td>\n",
       "      <td>ibanez747</td>\n",
       "      <td>Phenomenal All Around</td>\n",
       "      <td>This Jeffrey Combs, Stuart Gordon collaboratio...</td>\n",
       "      <td>NaN</td>\n",
       "      <td>2004-04-06</td>\n",
       "      <td>0</td>\n",
       "      <td>1</td>\n",
       "      <td>2025-04-02 13:31:19</td>\n",
       "      <td>0</td>\n",
       "    </tr>\n",
       "  </tbody>\n",
       "</table>\n",
       "<p>302 rows × 11 columns</p>\n",
       "</div>"
      ],
      "text/plain": [
       "          0         1              2   \\\n",
       "0    0089885   2920357  planktonrules   \n",
       "1    0089885   3447505         peefyn   \n",
       "2    0089885   3106387       kclipper   \n",
       "3    0089885   9003535      ma-cortes   \n",
       "4    0089885   3234999        grantss   \n",
       "..       ...       ...            ...   \n",
       "297  0089885  10161754     Bart-James   \n",
       "298  0089885   0225621   zorbathegeek   \n",
       "299  0089885   0225564       batzi8m1   \n",
       "300  0089885   0225596       danielbr   \n",
       "301  0089885   0225638      ibanez747   \n",
       "\n",
       "                                                    3   \\\n",
       "0    Not for the squeamish....and rather silly. But...   \n",
       "1    Starts of with a plot, but then derails into e...   \n",
       "2    The H.P. Lovecraft adaptation that defined hor...   \n",
       "3    Cult horror movie about Doctor Herbert West/Je...   \n",
       "4                               Silly but entertaining   \n",
       "..                                                 ...   \n",
       "297                       CHEER! - (8 stars out of 10)   \n",
       "298           A great travesty of an even better story   \n",
       "299  Evil Doctor Brings the Dead Back to Live as Mu...   \n",
       "300                             Jeffrey Combs Is Great   \n",
       "301                              Phenomenal All Around   \n",
       "\n",
       "                                                    4     5           6   7   \\\n",
       "0    If \"Re-Animator\" was very realistic, it would ...   6.0  2013-12-11   9   \n",
       "1    I feel I missed a lot of great movie experienc...   6.0  2016-04-07   2   \n",
       "2    Writer/Director, Stuart Gordon along with Prod...  10.0  2014-10-17  16   \n",
       "3    Based on the frightening story by the undisput...   7.0  2023-04-19   3   \n",
       "4    Silly but entertaining.\\nRe-animator started r...   5.0  2015-05-09   9   \n",
       "..                                                 ...   ...         ...  ..   \n",
       "297  The stage curtains open ...\\nWhat would you ge...   8.0  2024-11-28   0   \n",
       "298  If I had not read H.P.Lovecraft's story before...   NaN  2003-04-25   0   \n",
       "299  Yes, my evil assistant, we can re animate the ...   NaN  1999-11-10   0   \n",
       "300  Wild,over the top,trashy Frankenstein style ho...   NaN  1999-04-14   0   \n",
       "301  This Jeffrey Combs, Stuart Gordon collaboratio...   NaN  2004-04-06   0   \n",
       "\n",
       "     8                   9   10  \n",
       "0     6 2025-04-02 13:31:19   0  \n",
       "1     0 2025-04-02 13:31:19   0  \n",
       "2     3 2025-04-02 13:31:19   0  \n",
       "3     1 2025-04-02 13:31:19   0  \n",
       "4     2 2025-04-02 13:31:19   0  \n",
       "..   ..                 ...  ..  \n",
       "297   0 2025-04-02 13:31:19   0  \n",
       "298   0 2025-04-02 13:31:19   0  \n",
       "299   0 2025-04-02 13:31:19   0  \n",
       "300   0 2025-04-02 13:31:19   0  \n",
       "301   1 2025-04-02 13:31:19   0  \n",
       "\n",
       "[302 rows x 11 columns]"
      ]
     },
     "execution_count": 21,
     "metadata": {},
     "output_type": "execute_result"
    }
   ],
   "source": [
    "pd.DataFrame(db.query_data(\"reviews_raw\", condition=f\"movie_id = '{(movie_id)}'\"))"
   ]
  },
  {
   "cell_type": "code",
   "execution_count": 27,
   "id": "0bf37edb-cc4b-4dc6-b140-6fd1181c0c15",
   "metadata": {},
   "outputs": [
    {
     "data": {
      "text/html": [
       "<div>\n",
       "<style scoped>\n",
       "    .dataframe tbody tr th:only-of-type {\n",
       "        vertical-align: middle;\n",
       "    }\n",
       "\n",
       "    .dataframe tbody tr th {\n",
       "        vertical-align: top;\n",
       "    }\n",
       "\n",
       "    .dataframe thead th {\n",
       "        text-align: right;\n",
       "    }\n",
       "</style>\n",
       "<table border=\"1\" class=\"dataframe\">\n",
       "  <thead>\n",
       "    <tr style=\"text-align: right;\">\n",
       "      <th></th>\n",
       "      <th>0</th>\n",
       "      <th>1</th>\n",
       "      <th>2</th>\n",
       "      <th>3</th>\n",
       "      <th>4</th>\n",
       "      <th>5</th>\n",
       "      <th>6</th>\n",
       "    </tr>\n",
       "  </thead>\n",
       "  <tbody>\n",
       "    <tr>\n",
       "      <th>0</th>\n",
       "      <td>0689301</td>\n",
       "      <td>-1</td>\n",
       "      <td>-1</td>\n",
       "      <td>None</td>\n",
       "      <td>None</td>\n",
       "      <td>None</td>\n",
       "      <td>-1</td>\n",
       "    </tr>\n",
       "  </tbody>\n",
       "</table>\n",
       "</div>"
      ],
      "text/plain": [
       "         0  1  2     3     4     5  6\n",
       "0  0689301 -1 -1  None  None  None -1"
      ]
     },
     "execution_count": 27,
     "metadata": {},
     "output_type": "execute_result"
    }
   ],
   "source": [
    "pd.DataFrame(db.query_data(\"reviews_sentiments\", condition=f\"review_id = '0689301'\"))"
   ]
  },
  {
   "cell_type": "markdown",
   "id": "3ed8847a-b1d5-48e3-a9bb-20f2bac7c256",
   "metadata": {},
   "source": [
    "# Delete reviews"
   ]
  },
  {
   "cell_type": "code",
   "execution_count": null,
   "id": "dc8cbeba-2d92-48fc-9a99-d043876a024b",
   "metadata": {},
   "outputs": [],
   "source": [
    "db.remove_data(\"reviews_raw\", \"review_id\", 10389367)"
   ]
  },
  {
   "cell_type": "markdown",
   "id": "d011556a-ad71-4e44-8741-ace90c204078",
   "metadata": {},
   "source": [
    "# Query"
   ]
  },
  {
   "cell_type": "code",
   "execution_count": null,
   "id": "2f994f88-5d1e-41b3-83db-2b3d8e9d250c",
   "metadata": {},
   "outputs": [],
   "source": [
    "print(\"\\nAll reviews:\")\n",
    "reviews = db.query_data('reviews_raw')\n",
    "for review in reviews:\n",
    "    print(review)"
   ]
  },
  {
   "cell_type": "code",
   "execution_count": null,
   "id": "71462858-863d-4aa1-bf2c-af15df9541ce",
   "metadata": {},
   "outputs": [],
   "source": [
    "print(\"\\nReviews for movie 6208148:\")\n",
    "reviews = db.query_data('reviews_raw', condition='rating > 1')\n",
    "for review in reviews:\n",
    "    print(review)"
   ]
  },
  {
   "cell_type": "markdown",
   "id": "9717d8d3-de28-4c4e-8425-dec7fb973cb0",
   "metadata": {},
   "source": [
    "# Close connection"
   ]
  },
  {
   "cell_type": "code",
   "execution_count": null,
   "id": "e51bd292-a9d2-4853-ab9d-dfae201d7bb3",
   "metadata": {},
   "outputs": [],
   "source": [
    "if 'db' in locals():\n",
    "    db.close_connection()"
   ]
  }
 ],
 "metadata": {
  "kernelspec": {
   "display_name": "Python 3 (ipykernel)",
   "language": "python",
   "name": "python3"
  },
  "language_info": {
   "codemirror_mode": {
    "name": "ipython",
    "version": 3
   },
   "file_extension": ".py",
   "mimetype": "text/x-python",
   "name": "python",
   "nbconvert_exporter": "python",
   "pygments_lexer": "ipython3",
   "version": "3.12.9"
  }
 },
 "nbformat": 4,
 "nbformat_minor": 5
}
