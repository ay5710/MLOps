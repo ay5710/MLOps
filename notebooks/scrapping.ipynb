{
 "cells": [
  {
   "cell_type": "markdown",
   "id": "abbbec93-dc62-47e7-9793-83ca260a8151",
   "metadata": {},
   "source": [
    "Votes are rounded above 999 => need to load the review page to get exact values\n",
    "\n",
    "Setting language to English not necessary from the DataLab?\n",
    "\n",
    "Check if the number of scrapped matches the number of reviews displayed on the main page"
   ]
  },
  {
   "cell_type": "code",
   "execution_count": 1,
   "id": "d0d929bc-eb69-40f5-b1c0-6a650943953e",
   "metadata": {},
   "outputs": [],
   "source": [
    "from bs4 import BeautifulSoup\n",
    "from datetime import datetime\n",
    "from selenium import webdriver\n",
    "from selenium.webdriver.chrome.options import Options\n",
    "from selenium.webdriver.common.by import By\n",
    "from selenium.webdriver.common.action_chains import ActionChains\n",
    "from selenium.webdriver.support.ui import WebDriverWait\n",
    "from selenium.webdriver.support import expected_conditions as EC\n",
    "from src.utils.db import PostgreSQLDatabase\n",
    "\n",
    "import pandas as pd\n",
    "import re\n",
    "import time\n",
    "import tqdm"
   ]
  },
  {
   "cell_type": "code",
   "execution_count": 2,
   "id": "7318007e-b8a7-49ee-8225-78f6889b6580",
   "metadata": {},
   "outputs": [],
   "source": [
    "movie_id = '6208148'"
   ]
  },
  {
   "cell_type": "code",
   "execution_count": 3,
   "id": "30967249-3a6c-4e3f-90f5-4be1f204f6aa",
   "metadata": {},
   "outputs": [
    {
     "name": "stdout",
     "output_type": "stream",
     "text": [
      "[INFO] Launching browser\n"
     ]
    }
   ],
   "source": [
    "# Initialize Selenium WebDriver in headless mode\n",
    "chrome_options = Options()\n",
    "chrome_options.add_argument(\"--headless\")\n",
    "chrome_options.add_argument(\"--disable-blink-features=AutomationControlled\")\n",
    "chrome_options.add_argument(\"user-agent=Mozilla/5.0 (Windows NT 10.0; Win64; x64) AppleWebKit/537.36 (KHTML, like Gecko) Chrome/99.0.4844.51 Safari/537.36\")\n",
    "driver = webdriver.Chrome(options=chrome_options)\n",
    "print(f\"[INFO] Launching browser\")"
   ]
  },
  {
   "cell_type": "code",
   "execution_count": 4,
   "id": "6ed18be2-44b0-4682-a648-fae30317d8e4",
   "metadata": {},
   "outputs": [
    {
     "name": "stdout",
     "output_type": "stream",
     "text": [
      "[INFO] Loading IMDb main page for movie #6208148\n",
      "[INFO] Extracting movie title: Snow White\n",
      "[INFO] Extracting release date: March 21, 2025\n"
     ]
    }
   ],
   "source": [
    "# Load main page\n",
    "driver.get(f\"https://www.imdb.com/title/tt{movie_id}\")\n",
    "print(f\"[INFO] Loading IMDb main page for movie #{movie_id}\")\n",
    "            \n",
    "            # Wait for and extract title\n",
    "title_element = WebDriverWait(driver, 5).until(\n",
    "    EC.presence_of_element_located((By.XPATH, '//span[@data-testid=\"hero__primary-text\"]'))\n",
    ")\n",
    "movie_title = title_element.text.strip()\n",
    "print(f\"[INFO] Extracting movie title: {movie_title}\")\n",
    "            \n",
    "            # Extract release date\n",
    "release_date_element = WebDriverWait(driver, 5).until(\n",
    "    EC.presence_of_element_located((By.XPATH, '//li[@data-testid=\"title-details-releasedate\"]//a[@class=\"ipc-metadata-list-item__list-content-item ipc-metadata-list-item__list-content-item--link\"]'))\n",
    ")\n",
    "release_date = release_date_element.text.split(\" (\")[0].strip()\n",
    "print(f\"[INFO] Extracting release date: {release_date}\")"
   ]
  },
  {
   "cell_type": "code",
   "execution_count": 5,
   "id": "29939ebb-e2df-496f-a1c7-9bf058582d2a",
   "metadata": {},
   "outputs": [
    {
     "name": "stdout",
     "output_type": "stream",
     "text": [
      "[INFO] Loading IMDb reviews page for movie #6208148\n",
      "[INFO] Found 1386 reviews\n"
     ]
    }
   ],
   "source": [
    "# Load review page\n",
    "driver.get(f\"https://www.imdb.com/title/tt{movie_id}/reviews\")\n",
    "time.sleep(3)  # Allow page to load\n",
    "print(f\"[INFO] Loading IMDb reviews page for movie #{movie_id}\")\n",
    "\n",
    "# Extract the number of reviews\n",
    "reviews_element = driver.find_element(By.XPATH, '//div[@data-testid=\"tturv-total-reviews\"]')\n",
    "if reviews_element:\n",
    "    total_reviews = reviews_element.text.strip().split(\" reviews\")[0]  # Remove the text\n",
    "    total_reviews = int(total_reviews.replace(\",\", \"\"))  # Remove the comma for numbers >999\n",
    "else:\n",
    "    total_reviews = None\n",
    "\n",
    "print(f\"[INFO] Found {total_reviews} reviews\")"
   ]
  },
  {
   "cell_type": "code",
   "execution_count": 6,
   "id": "7002167d-f9a3-477f-b058-8e781d3c9d1f",
   "metadata": {},
   "outputs": [
    {
     "name": "stdout",
     "output_type": "stream",
     "text": [
      "[INFO] Loading IMDb reviews page for movie #6208148\n"
     ]
    }
   ],
   "source": [
    "# Load review page\n",
    "driver.get(f\"https://www.imdb.com/title/tt{movie_id}/reviews\")\n",
    "time.sleep(3)  # Allow page to load\n",
    "print(f\"[INFO] Loading IMDb reviews page for movie #{movie_id}\")"
   ]
  },
  {
   "cell_type": "code",
   "execution_count": 7,
   "id": "1d68c452-0dc0-49ac-a33f-c01e703cdda0",
   "metadata": {},
   "outputs": [
    {
     "name": "stdout",
     "output_type": "stream",
     "text": [
      "[INFO] Clicking the button to display all reviews\n"
     ]
    }
   ],
   "source": [
    "# Click the button to display all reviews\n",
    "if total_reviews > 25:\n",
    "    try:\n",
    "        # Wait for the button that specifically contains \"All\"\n",
    "        all_button = WebDriverWait(driver, 5).until(\n",
    "            EC.element_to_be_clickable((By.XPATH, '//span[contains(@class, \"ipc-see-more\")]//button[.//span[contains(text(), \"All\")]]'))\n",
    "        )\n",
    "    \n",
    "        # Click the button using JavaScript to avoid interception issues\n",
    "        driver.execute_script(\"arguments[0].click();\", all_button)\n",
    "        print(f\"[INFO] Clicking the button to display all reviews\")\n",
    "\n",
    "    except Exception as e:\n",
    "        print(f\"[WARNING] Button for displaying the reviews not found or not clickable: {e}\")"
   ]
  },
  {
   "cell_type": "code",
   "execution_count": 8,
   "id": "42052a24-05d1-4e86-8a4c-9bec4e0d28a8",
   "metadata": {},
   "outputs": [
    {
     "name": "stdout",
     "output_type": "stream",
     "text": [
      "[INFO] Found 8 spoiler buttons to click\n"
     ]
    },
    {
     "name": "stderr",
     "output_type": "stream",
     "text": [
      "Clicking Spoilers: 100%|██████████| 8/8 [00:14<00:00,  1.87s/button]\n"
     ]
    }
   ],
   "source": [
    "# Click all the spoiler buttons until all reviews are displayed entirely\n",
    "spoiler_buttons = driver.find_elements(By.CLASS_NAME, \"review-spoiler-button\")\n",
    "print(f\"[INFO] Found {len(spoiler_buttons)} spoiler buttons to click\")\n",
    "    \n",
    "for i, spoiler_button in enumerate(tqdm.tqdm(spoiler_buttons, desc=\"Clicking Spoilers\", unit=\"button\")):\n",
    "    try:\n",
    "        ActionChains(driver).move_to_element(spoiler_button).click().perform()\n",
    "        time.sleep(1)  # Add a small delay to ensure clicks register properly\n",
    "    except Exception as e:\n",
    "        print(f\"[ERROR] Could not click spoiler button {i+1}: {e}\")\n",
    "        continue"
   ]
  },
  {
   "cell_type": "code",
   "execution_count": 9,
   "id": "9e4d3e8f-e61c-42d9-bd57-9e8e8fbc1795",
   "metadata": {},
   "outputs": [],
   "source": [
    "# Extract reviews\n",
    "soup = BeautifulSoup(driver.page_source, \"html.parser\")\n",
    "data = []\n",
    "\n",
    "# Find all review articles\n",
    "reviews = soup.find_all(\"article\", class_=\"user-review-item\")\n",
    "\n",
    "# Loop through each review and extract information\n",
    "for review in reviews:\n",
    "    # 1. Extract the review identifier (integer between /rw and /?)\n",
    "    permalink_tag = review.find(\"a\", class_=\"ipc-link ipc-link--base\", attrs={\"data-testid\": \"permalink-link\"})\n",
    "    if permalink_tag:\n",
    "        identifier_match = re.search(r\"/rw(\\d+)\", permalink_tag[\"href\"])\n",
    "        if identifier_match:\n",
    "            review_id = identifier_match.group(1)\n",
    "        else:\n",
    "            review_id = None\n",
    "    else:\n",
    "        review_id = None\n",
    "\n",
    "    # 2. Extract the review date (from <li> tag with class 'review-date')\n",
    "    date_tag = review.find(\"li\", class_=\"ipc-inline-list__item review-date\")\n",
    "    review_date = date_tag.get_text(strip=True) if date_tag else None\n",
    "\n",
    "    # 3. Extract the review author (from <a> tag with class 'author-link')\n",
    "    author_tag = review.find(\"a\", class_=\"ipc-link ipc-link--base\", attrs={\"data-testid\": \"author-link\"})\n",
    "    author_name = author_tag.get_text(strip=True) if author_tag else None\n",
    "\n",
    "    # 4. Extract the upvotes and downvotes (from ipc-voting__label__count classes)\n",
    "    upvotes_tag = review.find(\"span\", class_=\"ipc-voting__label__count--up\")\n",
    "    downvotes_tag = review.find(\"span\", class_=\"ipc-voting__label__count--down\")\n",
    "    upvotes = upvotes_tag.get_text(strip=True) if upvotes_tag else 0\n",
    "    downvotes = downvotes_tag.get_text(strip=True) if downvotes_tag else 0\n",
    "\n",
    "    # 5. Extract the review text\n",
    "    spoiler_content_tag = review.find(\"div\", {\"data-testid\": \"review-spoiler-content\"})\n",
    "    \n",
    "    if spoiler_content_tag:\n",
    "        # If the spoiler content exists, extract the inner HTML of the review\n",
    "        review_text = spoiler_content_tag.find(\"div\", class_=\"ipc-html-content-inner-div\")\n",
    "        review_text = review_text.get_text(separator=\"\\n\", strip=True) if review_text else None\n",
    "    else:\n",
    "        # If no spoiler content, extract the regular review text\n",
    "        review_text_tag = review.find(\"div\", class_=\"ipc-overflowText--children\")\n",
    "        review_text = review_text_tag.get_text(separator=\"\\n\", strip=True) if review_text_tag else None\n",
    "\n",
    "    # 6. Extract the review title (from <h3> inside a <div> with class 'ipc-title')\n",
    "    title_tag = review.find(\"div\", class_=\"ipc-title\").find(\"h3\", class_=\"ipc-title__text\")\n",
    "    review_title = title_tag.get_text(strip=True) if title_tag else None\n",
    "\n",
    "    # 7. Extract the rating (from <span> with class 'ipc-rating-star--maxRating')\n",
    "    rating_tag = review.find(\"span\", class_=\"ipc-rating-star--maxRating\")\n",
    "    rating = rating_tag.previous_sibling.get_text(strip=True) if rating_tag else None\n",
    "\n",
    "    # 8. Append data to the list\n",
    "    data.append({\n",
    "        \"movie_id\": movie_id,\n",
    "        \"review_id\": review_id,\n",
    "        \"author\": author_name, \n",
    "        \"title\": review_title,\n",
    "        \"text\": review_text,\n",
    "        \"rating\": rating,\n",
    "        \"date\": review_date,\n",
    "        \"upvotes\": upvotes, \n",
    "        \"downvotes\": downvotes, \n",
    "        \"scrapping_timestamp\": datetime.now().strftime(\"%Y%m%d_%H%M%S\")\n",
    "    })\n",
    "\n",
    "# Create a dataframe from the collected data\n",
    "reviews_df = pd.DataFrame(data)"
   ]
  },
  {
   "cell_type": "code",
   "execution_count": 10,
   "id": "4a934a4e-db04-4319-b71f-cbe7b8034e25",
   "metadata": {},
   "outputs": [
    {
     "data": {
      "text/plain": [
       "550"
      ]
     },
     "execution_count": 10,
     "metadata": {},
     "output_type": "execute_result"
    }
   ],
   "source": [
    "len(reviews_df)"
   ]
  },
  {
   "cell_type": "code",
   "execution_count": null,
   "id": "f517d0c6-60cb-4da2-9824-bc58e63d532d",
   "metadata": {},
   "outputs": [],
   "source": [
    "# select rows with upvotes or downvotes ending with K\n",
    "# generate their adress\n",
    "# scrap vote counts\n",
    "# https://www.imdb.com/review/rw10392322/?ref_=tturv_perm_1"
   ]
  },
  {
   "cell_type": "code",
   "execution_count": null,
   "id": "c38a9a78-e80b-436f-8b91-bc05faebd2a2",
   "metadata": {},
   "outputs": [],
   "source": [
    "review_id = '10392322'\n",
    "driver.get(f\"https://www.imdb.com/review/rw{review_id}/\")\n",
    "time.sleep(3)  # Allow page to load\n",
    "print(f\"[INFO] Loading IMDb page for review #{review_id}\")"
   ]
  },
  {
   "cell_type": "code",
   "execution_count": null,
   "id": "842b7b36-8b49-4c9d-be1f-6fc386ce8e1c",
   "metadata": {},
   "outputs": [],
   "source": [
    "votes_element = driver.find_element(By.XPATH, '//div[@class=\"actions text-muted\"]')\n",
    "votes_text = votes_element.text.strip()\n",
    "votes_match = re.search(r'([\\d,]+) out of ([\\d,]+)', votes_text)\n",
    "\n",
    "if votes_match:\n",
    "    upvotes = int(votes_match.group(1).replace(',', ''))\n",
    "    all_votes = int(votes_match.group(2).replace(',', ''))\n",
    "    downvotes = all_votes - upvotes\n",
    "    print(f\"Helpful votes: {votes_helpful} out of {votes_total} and {downvotes}\")"
   ]
  },
  {
   "cell_type": "code",
   "execution_count": null,
   "id": "d0469bc5-3f0f-4fdc-be39-9f577278dc4a",
   "metadata": {},
   "outputs": [],
   "source": [
    "driver.quit()"
   ]
  },
  {
   "cell_type": "code",
   "execution_count": null,
   "id": "712fed7f-69fd-4458-8b28-c6bae0e0de78",
   "metadata": {},
   "outputs": [],
   "source": [
    "def convert_to_int(value):\n",
    "    if value is None:\n",
    "        return 0\n",
    "    if 'K' in value:\n",
    "        return int(float(value.replace('K', '')) * 1000)\n",
    "    try:\n",
    "        return int(value)\n",
    "    except ValueError:\n",
    "        return 0\n",
    "\n",
    "reviews_df['upvotes'] = reviews_df['upvotes'].apply(convert_to_int)\n",
    "reviews_df['downvotes'] = reviews_df['downvotes'].apply(convert_to_int)"
   ]
  },
  {
   "cell_type": "code",
   "execution_count": null,
   "id": "f74b2b5b-862d-451a-8f98-7cc0a883fa70",
   "metadata": {},
   "outputs": [],
   "source": [
    "reviews_list = reviews_df.apply(lambda row: (\n",
    "    row['movie_id'], row['review_id'], \n",
    "    f\"{row['author']}\", f\"{row['title']}\", \n",
    "    f'''{row['text']}''', row['rating'], \n",
    "    f\"{row['date']}\", row['upvotes'], row['downvotes'], \n",
    "    f\"{row['scrapping_timestamp']}\"\n",
    "), axis=1).tolist()"
   ]
  },
  {
   "cell_type": "code",
   "execution_count": null,
   "id": "25d58be5-4bb5-48a5-9ac8-ae406c5a0e9f",
   "metadata": {},
   "outputs": [],
   "source": [
    "timestamp = datetime.now().strftime(\"%Y%m%d_%H%M%S\")\n",
    "\n",
    "db = PostgreSQLDatabase()\n",
    "db.connect()\n",
    "db.insert_data('movies', [(movie_id, movie_title, release_date, timestamp),])\n",
    "db.insert_data('reviews_raw', reviews_list)\n",
    "db.close_connection()"
   ]
  },
  {
   "cell_type": "code",
   "execution_count": null,
   "id": "469e36f0-d127-495f-b3a0-4ea8efc5a729",
   "metadata": {},
   "outputs": [],
   "source": []
  }
 ],
 "metadata": {
  "kernelspec": {
   "display_name": "Python 3 (ipykernel)",
   "language": "python",
   "name": "python3"
  },
  "language_info": {
   "codemirror_mode": {
    "name": "ipython",
    "version": 3
   },
   "file_extension": ".py",
   "mimetype": "text/x-python",
   "name": "python",
   "nbconvert_exporter": "python",
   "pygments_lexer": "ipython3",
   "version": "3.12.9"
  }
 },
 "nbformat": 4,
 "nbformat_minor": 5
}
