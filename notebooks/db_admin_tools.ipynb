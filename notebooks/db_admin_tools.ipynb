{
 "cells": [
  {
   "cell_type": "code",
   "execution_count": null,
   "id": "83612672-74b5-4564-a104-4ffde3076423",
   "metadata": {},
   "outputs": [],
   "source": [
    "import os\n",
    "import psycopg\n",
    "\n",
    "from dotenv import load_dotenv\n",
    "from psycopg import sql"
   ]
  },
  {
   "cell_type": "code",
   "execution_count": null,
   "id": "bc231ec6-308f-4564-9bd7-2f7aeb6c6f73",
   "metadata": {},
   "outputs": [],
   "source": [
    "# Connect as admin\n",
    "load_dotenv()\n",
    "connection_params = {\n",
    "            'dbname': os.getenv('DB_NAME'),\n",
    "            'user': os.getenv('DB_ADMIN_USER'),\n",
    "            'password': os.getenv('DB_ADMIN_PASSWORD'),\n",
    "            'host': os.getenv('DB_HOST'),\n",
    "            'port': 5432\n",
    "        }\n",
    "connection = psycopg.connect(**connection_params)\n",
    "cursor = connection.cursor()"
   ]
  },
  {
   "cell_type": "code",
   "execution_count": null,
   "id": "677c18ab-5087-43a6-83d6-d8df3a9830f2",
   "metadata": {},
   "outputs": [],
   "source": [
    "connection.rollback()"
   ]
  },
  {
   "cell_type": "markdown",
   "id": "8facd1c7-c816-49f1-8bd6-1a67fafb6c3c",
   "metadata": {},
   "source": [
    "# Manage tables"
   ]
  },
  {
   "cell_type": "code",
   "execution_count": null,
   "id": "5aea62da-45a9-47cf-a4fc-13529ecd73c2",
   "metadata": {},
   "outputs": [],
   "source": [
    "cursor.execute(\"SELECT tablename FROM pg_catalog.pg_tables WHERE schemaname = 'public';\")\n",
    "tables = cursor.fetchall()\n",
    "\n",
    "for table in tables:\n",
    "    print(table[0])"
   ]
  },
  {
   "cell_type": "code",
   "execution_count": null,
   "id": "cc2f4369-386a-4b45-8b34-86cacd067b98",
   "metadata": {},
   "outputs": [],
   "source": [
    "# Drop table\n",
    "table_name = 'reviews_raw'\n",
    "drop_table_query = sql.SQL(\"DROP TABLE IF EXISTS {} CASCADE\").format(\n",
    "    sql.Identifier(table_name)\n",
    ")\n",
    "cursor.execute(drop_table_query)\n",
    "connection.commit()"
   ]
  },
  {
   "cell_type": "markdown",
   "id": "8693e387-1462-4a73-865e-5e0a8006291f",
   "metadata": {},
   "source": [
    "# Manage users"
   ]
  },
  {
   "cell_type": "code",
   "execution_count": null,
   "id": "0dcfa932-0e77-4158-8798-58d08abce549",
   "metadata": {},
   "outputs": [],
   "source": [
    "# List of users\n",
    "cursor.execute(\"SELECT usename FROM pg_catalog.pg_user;\")\n",
    "users = cursor.fetchall()\n",
    "\n",
    "for user in users:\n",
    "    print(user[0])"
   ]
  },
  {
   "cell_type": "code",
   "execution_count": null,
   "id": "c5e2fba6-9a1e-4b18-a02a-1f96e72e54ea",
   "metadata": {},
   "outputs": [],
   "source": [
    "# Create an user\n",
    "user_name = \"username_test\"\n",
    "user_password = \"password_test\"\n",
    "query = f\"CREATE USER {user_name} WITH PASSWORD '{user_password}';\"\n",
    "cursor.execute(query)\n",
    "connection.commit()"
   ]
  },
  {
   "cell_type": "code",
   "execution_count": null,
   "id": "bcdb41b9-4454-4530-bef9-80d922e476d2",
   "metadata": {},
   "outputs": [],
   "source": [
    "# Remove an user\n",
    "user_name = \"username_test\"\n",
    "cursor.execute(f\"DROP USER IF EXISTS {user_name};\")\n",
    "connection.commit()"
   ]
  },
  {
   "cell_type": "code",
   "execution_count": null,
   "id": "4cc1f4a7-1c07-421a-b856-dc0015f95e3e",
   "metadata": {},
   "outputs": [],
   "source": [
    "# Test\n",
    "connection.close()\n",
    "connection_params = {\n",
    "            'dbname': os.getenv('DB_NAME'),\n",
    "            'user': user_name,\n",
    "            'password': user_password,\n",
    "            'host': 'postgresql-191477.user-maeldieudonne',\n",
    "            'port': 5432\n",
    "        }\n",
    "connection = psycopg.connect(**connection_params)\n",
    "cursor = connection.cursor()"
   ]
  },
  {
   "cell_type": "code",
   "execution_count": null,
   "id": "ecb421d2-7437-45db-96d7-69ce57a240f5",
   "metadata": {},
   "outputs": [],
   "source": [
    "connection.close()"
   ]
  }
 ],
 "metadata": {
  "kernelspec": {
   "display_name": "Python 3 (ipykernel)",
   "language": "python",
   "name": "python3"
  },
  "language_info": {
   "codemirror_mode": {
    "name": "ipython",
    "version": 3
   },
   "file_extension": ".py",
   "mimetype": "text/x-python",
   "name": "python",
   "nbconvert_exporter": "python",
   "pygments_lexer": "ipython3",
   "version": "3.12.9"
  }
 },
 "nbformat": 4,
 "nbformat_minor": 5
}
