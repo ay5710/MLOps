{
 "cells": [
  {
   "cell_type": "code",
   "execution_count": 1,
   "id": "ce16e56a-39eb-45fd-a6ff-5264d6b91b38",
   "metadata": {},
   "outputs": [],
   "source": [
    "from src.utils.db import PostgreSQLDatabase"
   ]
  },
  {
   "cell_type": "code",
   "execution_count": 2,
   "id": "cf8c0829-f6b5-4cc6-8f8b-9bdb4d0468e6",
   "metadata": {},
   "outputs": [
    {
     "name": "stdout",
     "output_type": "stream",
     "text": [
      "Error while connecting to PostgreSQL: name 'connections_params' is not defined\n"
     ]
    }
   ],
   "source": [
    "db = PostgreSQLDatabase()\n",
    "db.connect()"
   ]
  },
  {
   "cell_type": "code",
   "execution_count": null,
   "id": "76ae989e-15c8-460b-8666-fb22143f75c4",
   "metadata": {},
   "outputs": [],
   "source": [
    "# If an operation fails, the db gets in an aborted transaction state where it is basically locked.\n",
    "# The failed operation must then be aborted with:\n",
    "db.connection.rollback()"
   ]
  },
  {
   "cell_type": "markdown",
   "id": "d3ea1a50-7a58-458a-8e61-c67a772485fd",
   "metadata": {},
   "source": [
    "# Insert sample reviews"
   ]
  },
  {
   "cell_type": "code",
   "execution_count": null,
   "id": "b463dc86-8fb0-4eb4-9a3f-9c781c06930c",
   "metadata": {},
   "outputs": [],
   "source": [
    "sample_reviews = [\n",
    "    \n",
    "(10389367, 6208148, f\"Poisoned apples all round.\", f'''As always, whenever there's a negative hype around a movie, my mindset is always, prove them wrong, give it a chance.\n",
    "\n",
    "It's diabolical, honestly, I can't understand how so much money and so much time has gone into this, the final result is cringe worthy. It is an absolute shocker, I am stumped to find any positives.\n",
    "\n",
    "It looks and feels so artificial, the sets, the animals, as for The Dwarves themselves, I have no words to express my feelings there.\n",
    "\n",
    "The biggest catastrophe, not what I was expecting if I'm honest, the worst offender, Gal Gadot, she looks sensational, but her performance, she's going to scoop some unwanted awards it's fair to say.\n",
    "\n",
    "What I wasn't expecting, was just how poor the costumes would look on screen, Snow White's just doesn't translate very well, the hairstyle, what were they thinking?\n",
    "\n",
    "Disney, what on Earth have you done?''',\n",
    "'20 March 2025', 1, 5210, 348,'2025-03-20 12:00:00'),\n",
    "    \n",
    "(10392322, 6208148, f\"Rooting for the Apple\", f'''Disney's live-action Snow White is finally here, and after watching it, I can confidently say that the Magic Mirror needs a new prescription. This movie is less \"fairest of them all\" and more \"fairest at failing upwards.\" If you ever wondered what it would look like if someone took the classic 1937 animated masterpiece, ran it through a corporate buzzword generator, and then tossed in some awkward CGI for good measure-congratulations, you've found your answer!\n",
    "\n",
    "A Princess with a Personality (Kind Of?)\n",
    "\n",
    "Rachel Zegler takes on the role of Snow White, though you'd be forgiven for thinking she was actually playing a medieval TED Talk speaker. Instead of the wide-eyed, kind-hearted princess we all knew, this Snow White is a Strong Independent Woman™-because saying \"I want to be a queen, not a bride\" apparently counts as character development these days. That's right, folks, forget charming dwarfs, woodland creatures, or actual chemistry with anyone; this Snow White has dreams, and she's here to remind you about them every five minutes.\n",
    "\n",
    "But despite all that, her biggest challenge in the movie isn't even the Evil Queen-it's keeping the audience awake.\n",
    "\n",
    "Gal Gadot: Evil Queen or Instagram Influencer?\n",
    "\n",
    "Now, let's talk about Gal Gadot's Evil Queen. You'd think that playing a narcissistic, beauty-obsessed villain would be an easy fit for Hollywood, but somehow, even with all the pouting, dress-swishing, and over-the-top glowering, she ends up about as menacing as a fashion blogger with a bad attitude.\n",
    "\n",
    "Her obsession with being \"the fairest of them all\" is laughable when you realize that, well... she already is the fairest of them all. No offense to Snow White, but if the mirror told me that Gal Gadot wasn't the hottest person in the kingdom, I'd be smashing that thing to pieces too. The real villain here is the mirror's manufacturer.\n",
    "\n",
    "The Dwarfs: Now with 90% Less Dwarfs!\n",
    "\n",
    "Ah yes, the seven dwarfs-except, surprise! They're not really dwarfs anymore. Instead, we get a diverse group of CGI-enhanced \"magical creatures\" who look like they were rejected from The Lord of the Rings for being too unsettling. Imagine if a bunch of carnival performers got stuck in a blender with bad CGI, and you've got these guys.\n",
    "\n",
    "Their role in the movie? Mostly to exist, deliver unfunny one-liners, and make you wonder if we should start a petition to bring back actual actors instead of whatever motion-capture madness this is. If I wanted to spend two hours looking at weirdly animated characters, I'd just play a bad video game.\n",
    "\n",
    "The Apple Fiasco\n",
    "\n",
    "We all know the story: Evil Queen poisons apple, Snow White eats apple, Snow White falls into a death nap, and then a prince shows up to wake her with true love's kiss. Simple, right? Nope. Not in this version.\n",
    "\n",
    "Instead, we get a long, drawn-out scene where Snow White almost eats the apple, but then stops to give another speech about believing in yourself or some nonsense. And when she does finally bite it, the whole moment is ruined by some weird slow-motion effects that make it look like an overly dramatic shampoo commercial.\n",
    "\n",
    "Honestly, I was rooting for the apple at that point. Maybe if she stayed in an enchanted coma, we'd all be spared another unnecessary Disney remake.\n",
    "\n",
    "Final Verdict: The Fairest Disaster of Them All\n",
    "\n",
    "This movie is what happens when you take a beloved classic, strip away everything that made it charming, and replace it with corporate-approved \"modernization\" that pleases no one. It's a film that wants to be empowering, but instead feels like a checklist of forced inclusivity and soulless spectacle.\n",
    "\n",
    "Snow White (2025) is proof that sometimes, it's better to leave well enough alone. If you're looking for magic, wonder, and nostalgia, just rewatch the 1937 version. If you're looking for two hours of your life you'll never get back, then by all means, go ahead and buy a ticket.''',\n",
    "'20 March 2025', 1, 2863, 741,'2025-03-20 12:00:00'),\n",
    "\n",
    "(10388881, 6208148, f\"Disney's Snow White (2025) - A Hollow, Uninspired Reimagining\", f'''Disney's latest live-action remake, Snow White (2025), is yet another attempt to cash in on nostalgia, but unfortunately, it falls flat in almost every regard. From lackluster performances to subpar CGI, this film struggles to capture the magic of the original classic.\n",
    "\n",
    "Rachel Zegler: A Miscast Lead\n",
    "\n",
    "Rachel Zegler, who takes on the iconic role of Snow White, delivers a performance that feels stiff and uninspired. While she undeniably has a strong singing voice, her acting lacks the warmth and charm that made the animated Snow White so beloved. Her line delivery often comes off as forced, and she struggles to bring emotional depth to the character. Instead of exuding the innocence and kindness associated with Snow White, her portrayal feels distant and, at times, even disengaged.\n",
    "\n",
    "Weak CGI and Bland Visuals\n",
    "\n",
    "For a film with Disney's budget, the CGI is shockingly subpar. The enchanted forest, which should have felt lush and immersive, looks artificial, and the CGI creatures lack the expressiveness and charm of their animated counterparts. The dwarfs-who have been controversially reimagined-look awkward and unnatural, making it hard to emotionally invest in their presence. The visual effects in Snow White feel rushed, and instead of enhancing the experience, they serve as a constant distraction.\n",
    "\n",
    "Music: Strong Vocals, Forgettable Songs\n",
    "\n",
    "If there's one aspect where the film slightly shines, it's Zegler's singing. She undeniably has a beautiful voice, and her vocal performances are solid. However, the new songs she's given are bland and unmemorable, failing to capture the whimsy and timeless appeal of the original soundtrack. Unlike Beauty and the Beast or The Little Mermaid, which at least had a few standout musical moments, Snow White's soundtrack feels generic and uninspired.\n",
    "\n",
    "Conclusion: A Missed Opportunity\n",
    "\n",
    "Ultimately, Snow White is another soulless live-action remake that lacks the heart and magic of the original. While Zegler's singing is a bright spot, her acting, coupled with bad CGI and uninspired musical numbers, makes this adaptation feel unnecessary. Disney had an opportunity to bring a fresh and captivating take on Snow White, but instead, they delivered a forgettable and lackluster film. Fans of the original will likely leave disappointed, longing for the charm and artistry that made the 1937 classic a masterpiece.''',\n",
    "'20 March 2025', 1, 3724, 303,'2025-03-20 12:00:00')\n",
    "]\n",
    "\n",
    "db.insert_data('reviews_raw', sample_reviews)"
   ]
  },
  {
   "cell_type": "code",
   "execution_count": null,
   "id": "e919fd63-6be5-4b0f-a3e6-12b487a8cbea",
   "metadata": {},
   "outputs": [],
   "source": [
    "data = [(1,2,3,4,5,6)]\n",
    "db.insert_data('reviews_sentiments', data)"
   ]
  },
  {
   "cell_type": "markdown",
   "id": "3ed8847a-b1d5-48e3-a9bb-20f2bac7c256",
   "metadata": {},
   "source": [
    "# Delete reviews"
   ]
  },
  {
   "cell_type": "code",
   "execution_count": null,
   "id": "dc8cbeba-2d92-48fc-9a99-d043876a024b",
   "metadata": {},
   "outputs": [],
   "source": [
    "db.remove_data(\"reviews_raw\", \"review_id\", 10389367)"
   ]
  },
  {
   "cell_type": "markdown",
   "id": "d011556a-ad71-4e44-8741-ace90c204078",
   "metadata": {},
   "source": [
    "# Query"
   ]
  },
  {
   "cell_type": "code",
   "execution_count": null,
   "id": "2f994f88-5d1e-41b3-83db-2b3d8e9d250c",
   "metadata": {},
   "outputs": [],
   "source": [
    "print(\"\\nAll reviews:\")\n",
    "reviews = db.query_data('reviews_raw')\n",
    "for review in reviews:\n",
    "    print(review)"
   ]
  },
  {
   "cell_type": "code",
   "execution_count": null,
   "id": "71462858-863d-4aa1-bf2c-af15df9541ce",
   "metadata": {},
   "outputs": [],
   "source": [
    "print(\"\\nReviews for movie 6208148:\")\n",
    "reviews = db.query_data('reviews_raw', condition='rating > 1')\n",
    "for review in reviews:\n",
    "    print(review)"
   ]
  },
  {
   "cell_type": "markdown",
   "id": "9717d8d3-de28-4c4e-8425-dec7fb973cb0",
   "metadata": {},
   "source": [
    "# Close connection"
   ]
  },
  {
   "cell_type": "code",
   "execution_count": null,
   "id": "e51bd292-a9d2-4853-ab9d-dfae201d7bb3",
   "metadata": {},
   "outputs": [],
   "source": [
    "if 'db' in locals():\n",
    "    db.close_connection()"
   ]
  }
 ],
 "metadata": {
  "kernelspec": {
   "display_name": "Python 3 (ipykernel)",
   "language": "python",
   "name": "python3"
  },
  "language_info": {
   "codemirror_mode": {
    "name": "ipython",
    "version": 3
   },
   "file_extension": ".py",
   "mimetype": "text/x-python",
   "name": "python",
   "nbconvert_exporter": "python",
   "pygments_lexer": "ipython3",
   "version": "3.12.9"
  }
 },
 "nbformat": 4,
 "nbformat_minor": 5
}
