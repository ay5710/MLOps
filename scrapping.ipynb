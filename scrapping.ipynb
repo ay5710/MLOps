{
 "cells": [
  {
   "cell_type": "code",
   "execution_count": null,
   "id": "9c259ab1-1d34-4886-8733-870b448075ef",
   "metadata": {
    "scrolled": true
   },
   "outputs": [],
   "source": [
    "pip install chromedriver-py"
   ]
  },
  {
   "cell_type": "markdown",
   "id": "abbbec93-dc62-47e7-9793-83ca260a8151",
   "metadata": {},
   "source": [
    "Procedure:\n",
    "- Click the button to display all reviews\n",
    "- Scrap all reviews\n",
    "  - Votes are rounded above 999 => need to load the review page\n",
    "  - Reviews may be hidden behide spoiler markup => click the spoiler button or load the review page"
   ]
  },
  {
   "cell_type": "code",
   "execution_count": null,
   "id": "d0d929bc-eb69-40f5-b1c0-6a650943953e",
   "metadata": {},
   "outputs": [],
   "source": [
    "from selenium import webdriver\n",
    "from selenium.webdriver.common.by import By\n",
    "from selenium.webdriver.common.action_chains import ActionChains\n",
    "import time\n",
    "from bs4 import BeautifulSoup\n",
    "import re\n",
    "import pandas as pd"
   ]
  },
  {
   "cell_type": "code",
   "execution_count": null,
   "id": "7318007e-b8a7-49ee-8225-78f6889b6580",
   "metadata": {},
   "outputs": [],
   "source": [
    "# Initialize Selenium WebDriver\n",
    "print(\"[INFO] Launching browser...\")\n",
    "driver = webdriver.Chrome()\n",
    "driver.get(\"https://www.imdb.com/title/tt6208148/reviews\")\n",
    "time.sleep(3)  # Allow initial page to load\n",
    "print(\"[INFO] IMDb reviews page loaded.\")"
   ]
  },
  {
   "cell_type": "markdown",
   "id": "55f3672a-bba7-4632-95c9-edaade4ce5c0",
   "metadata": {},
   "source": [
    "Button to display all reviews appears in French in the code.\n",
    "Maybe in the datalab it will appear in English."
   ]
  },
  {
   "cell_type": "code",
   "execution_count": null,
   "id": "428e995c-b958-45b7-9da1-4c30fa0f617d",
   "metadata": {
    "scrolled": true
   },
   "outputs": [],
   "source": [
    "# Display all reviews\n",
    "buttons = driver.find_elements(By.TAG_NAME, \"button\")\n",
    "print(f\"[INFO] Found {len(buttons)} buttons.\")\n",
    "\n",
    "try:\n",
    "    all_button = driver.find_element(By.XPATH, \"//button[.//span[contains(text(), 'Tout')]]\")\n",
    "    print(\"[INFO] Clicking 'Tout' button to load all reviews...\")\n",
    "\n",
    "    # Ensure the button is visible and clickable\n",
    "    driver.execute_script(\"arguments[0].scrollIntoView();\", all_button)\n",
    "    time.sleep(1)  # Let scrolling settle\n",
    "\n",
    "    # Use ActionChains to click\n",
    "    actions = ActionChains(driver)\n",
    "    actions.move_to_element(all_button).click().perform()\n",
    "\n",
    "    time.sleep(5)  # Wait for reviews to load\n",
    "    print(\"[INFO] All reviews should now be visible!\")\n",
    "except Exception as e:\n",
    "    print(f\"[WARNING] 'Tout' button not found or not clickable: {e}\")"
   ]
  },
  {
   "cell_type": "markdown",
   "id": "f116e37c-f57c-4bdc-ac2a-365ceb8a4c1c",
   "metadata": {},
   "source": [
    "In the main page, votes are rounded above 1000 (e.g., 5K).\n",
    "It is necessary to open the review page to get the detailed values.\n",
    "Code in the main page consider votes as strings to avoid issues."
   ]
  },
  {
   "cell_type": "code",
   "execution_count": null,
   "id": "8d669174-bea0-4a14-8d84-ff8d9d5db88f",
   "metadata": {},
   "outputs": [],
   "source": [
    "# Click all spoiler buttons repeatedly until no more buttons are left\n",
    "while True:\n",
    "    # Find all the \"Spoiler\" buttons on the page\n",
    "    spoiler_buttons = driver.find_elements(By.CLASS_NAME, \"review-spoiler-button\")\n",
    "\n",
    "    if not spoiler_buttons:\n",
    "        print(\"[INFO] No more spoiler buttons to click.\")\n",
    "        break  # Exit the loop if there are no more buttons\n",
    "\n",
    "    # Click each button\n",
    "    for i, spoiler_button in enumerate(spoiler_buttons):\n",
    "        try:\n",
    "            # Click the spoiler button to reveal the spoiler content\n",
    "            print(f\"[INFO] Clicking spoiler button {i+1}...\")\n",
    "            ActionChains(driver).move_to_element(spoiler_button).click().perform()\n",
    "\n",
    "            # Wait a moment to ensure the page updates (adjust as needed)\n",
    "            time.sleep(1)\n",
    "\n",
    "        except Exception as e:\n",
    "            print(f\"[ERROR] Could not click spoiler button {i+1}: {e}\")\n",
    "            continue\n",
    "\n",
    "    # Wait before trying again in case new buttons appeared\n",
    "    print(\"[INFO] Waiting for the page to load new content...\")\n",
    "    time.sleep(3)  # You can adjust this time based on how quickly new buttons load\n"
   ]
  },
  {
   "cell_type": "code",
   "execution_count": null,
   "id": "9e4d3e8f-e61c-42d9-bd57-9e8e8fbc1795",
   "metadata": {},
   "outputs": [],
   "source": [
    "# Get page source and parse with BeautifulSoup\n",
    "soup = BeautifulSoup(driver.page_source, \"html.parser\")\n",
    "\n",
    "# Extract the total number of reviews\n",
    "total_reviews_tag = soup.find(\"div\", attrs={\"data-testid\": \"tturv-total-reviews\"})\n",
    "if total_reviews_tag:\n",
    "    total_reviews_text = total_reviews_tag.get_text(strip=True)\n",
    "    # Remove non-breaking spaces and regular spaces, then convert to integer\n",
    "    total_reviews = int(total_reviews_text.replace(' ', '').replace(' ', '').split()[0])\n",
    "else:\n",
    "    total_reviews = None\n",
    "\n",
    "# Find all review articles (identified by 'user-review-item' class)\n",
    "reviews = soup.find_all(\"article\", class_=\"user-review-item\")\n",
    "\n",
    "# Create an empty list to store data\n",
    "data = []\n",
    "\n",
    "# Loop through each review and extract information\n",
    "for review in reviews:\n",
    "    # 1. Extract the review identifier (integer between /rw and /?)\n",
    "    permalink_tag = review.find(\"a\", class_=\"ipc-link ipc-link--base\", attrs={\"data-testid\": \"permalink-link\"})\n",
    "    if permalink_tag:\n",
    "        identifier_match = re.search(r\"/rw(\\d+)\", permalink_tag[\"href\"])\n",
    "        if identifier_match:\n",
    "            review_id = identifier_match.group(1)\n",
    "        else:\n",
    "            review_id = None\n",
    "    else:\n",
    "        review_id = None\n",
    "\n",
    "    # 2. Extract the review date (from <li> tag with class 'review-date')\n",
    "    date_tag = review.find(\"li\", class_=\"ipc-inline-list__item review-date\")\n",
    "    review_date = date_tag.get_text(strip=True) if date_tag else None\n",
    "\n",
    "    # 3. Extract the review author (from <a> tag with class 'author-link')\n",
    "    author_tag = review.find(\"a\", class_=\"ipc-link ipc-link--base\", attrs={\"data-testid\": \"author-link\"})\n",
    "    author_name = author_tag.get_text(strip=True) if author_tag else None\n",
    "\n",
    "    # 4. Extract the upvotes and downvotes (from ipc-voting__label__count classes)\n",
    "    upvotes_tag = review.find(\"span\", class_=\"ipc-voting__label__count--up\")\n",
    "    downvotes_tag = review.find(\"span\", class_=\"ipc-voting__label__count--down\")\n",
    "    upvotes = upvotes_tag.get_text(strip=True) if upvotes_tag else 0\n",
    "    downvotes = downvotes_tag.get_text(strip=True) if downvotes_tag else 0\n",
    "\n",
    "    # 5. Extract the review text (from the ipc-overflowText--children div)\n",
    "    spoiler_content_tag = review.find(\"div\", {\"data-testid\": \"review-spoiler-content\"})\n",
    "    \n",
    "    if spoiler_content_tag:\n",
    "        # If the spoiler content exists, extract the inner HTML of the review\n",
    "        review_text = spoiler_content_tag.find(\"div\", class_=\"ipc-html-content-inner-div\")\n",
    "        review_text = review_text.get_text(separator=\"\\n\", strip=True) if review_text else None\n",
    "    else:\n",
    "        # If no spoiler content, extract the regular review text\n",
    "        review_text_tag = review.find(\"div\", class_=\"ipc-overflowText--children\")\n",
    "        review_text = review_text_tag.get_text(separator=\"\\n\", strip=True) if review_text_tag else None\n",
    "\n",
    "    # 6. Extract the review title (from <h3> inside a <div> with class 'ipc-title')\n",
    "    title_tag = review.find(\"div\", class_=\"ipc-title\").find(\"h3\", class_=\"ipc-title__text\")\n",
    "    review_title = title_tag.get_text(strip=True) if title_tag else None\n",
    "\n",
    "    # 7. Extract the rating (from <span> with class 'ipc-rating-star--maxRating')\n",
    "    rating_tag = review.find(\"span\", class_=\"ipc-rating-star--maxRating\")\n",
    "    rating = rating_tag.previous_sibling.get_text(strip=True) if rating_tag else None\n",
    "\n",
    "    # 8. Append data to the list\n",
    "    data.append({\n",
    "        \"review_id\": review_id, \n",
    "        \"review_date\": review_date, \n",
    "        \"author\": author_name, \n",
    "        \"upvotes\": upvotes, \n",
    "        \"downvotes\": downvotes, \n",
    "        \"review_text\": review_text,\n",
    "        \"review_title\": review_title,\n",
    "        \"rating\": rating\n",
    "    })\n",
    "\n",
    "# Create a dataframe from the collected data\n",
    "df_reviews = pd.DataFrame(data)"
   ]
  },
  {
   "cell_type": "code",
   "execution_count": null,
   "id": "712fed7f-69fd-4458-8b28-c6bae0e0de78",
   "metadata": {},
   "outputs": [],
   "source": [
    "def convert_to_int(value):\n",
    "    if value is None:\n",
    "        return 0\n",
    "    if 'K' in value:\n",
    "        return int(float(value.replace('K', '')) * 1000)\n",
    "    try:\n",
    "        return int(value)\n",
    "    except ValueError:\n",
    "        return 0\n",
    "\n",
    "df_reviews['upvotes'] = df_reviews['upvotes'].apply(convert_to_int)\n",
    "df_reviews['downvotes'] = df_reviews['downvotes'].apply(convert_to_int)"
   ]
  },
  {
   "cell_type": "code",
   "execution_count": null,
   "id": "60532c06-646f-4312-9b79-968a69c16c57",
   "metadata": {},
   "outputs": [],
   "source": [
    "print(total_reviews)"
   ]
  },
  {
   "cell_type": "code",
   "execution_count": null,
   "id": "38e9ffcb-163a-4cf6-9050-d963a0de5db4",
   "metadata": {},
   "outputs": [],
   "source": [
    "df_reviews"
   ]
  },
  {
   "cell_type": "code",
   "execution_count": null,
   "id": "469e36f0-d127-495f-b3a0-4ea8efc5a729",
   "metadata": {},
   "outputs": [],
   "source": [
    "driver.quit()"
   ]
  }
 ],
 "metadata": {
  "kernelspec": {
   "display_name": "Python 3 (ipykernel)",
   "language": "python",
   "name": "python3"
  },
  "language_info": {
   "codemirror_mode": {
    "name": "ipython",
    "version": 3
   },
   "file_extension": ".py",
   "mimetype": "text/x-python",
   "name": "python",
   "nbconvert_exporter": "python",
   "pygments_lexer": "ipython3",
   "version": "3.12.9"
  }
 },
 "nbformat": 4,
 "nbformat_minor": 5
}
