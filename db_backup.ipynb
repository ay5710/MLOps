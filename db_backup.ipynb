{
 "cells": [
  {
   "cell_type": "code",
   "execution_count": 1,
   "id": "95ebacec-5471-4a4d-8ab1-d1494a2652c0",
   "metadata": {},
   "outputs": [],
   "source": [
    "import s3fs\n",
    "import os\n",
    "\n",
    "from datetime import datetime\n",
    "from dotenv import load_dotenv\n",
    "from src.utils.db import PostgreSQLDatabase"
   ]
  },
  {
   "cell_type": "code",
   "execution_count": 2,
   "id": "7dd67f91-764b-4c58-ae6b-3a02460af840",
   "metadata": {},
   "outputs": [
    {
     "name": "stdout",
     "output_type": "stream",
     "text": [
      "Successfully connected to the database\n"
     ]
    }
   ],
   "source": [
    "load_dotenv()\n",
    "db_name = os.getenv('DB_NAME')\n",
    "db_user = os.getenv('DB_USER')\n",
    "db_password = os.getenv('DB_PASSWORD')\n",
    "db_host = os.getenv('DB_HOST')\n",
    "\n",
    "db = PostgreSQLDatabase(\n",
    "    dbname = db_name, \n",
    "    user = db_user, \n",
    "    password = db_password,\n",
    "    host = db_host\n",
    ")\n",
    "\n",
    "db.connect()"
   ]
  },
  {
   "cell_type": "code",
   "execution_count": 3,
   "id": "eb5ade21-d6ac-4f4a-ac9e-62d9d8ac9f55",
   "metadata": {},
   "outputs": [],
   "source": [
    "S3_ENDPOINT_URL = 'https://' + os.environ['AWS_S3_ENDPOINT']\n",
    "fs = s3fs.S3FileSystem(client_kwargs={'endpoint_url': S3_ENDPOINT_URL})\n",
    "\n",
    "bucket_name = 'maeldieudonne'\n",
    "destination_directory = bucket_name + '/MLOps/'"
   ]
  },
  {
   "cell_type": "markdown",
   "id": "62162e46-df39-44b2-a1a0-b4455a401f6d",
   "metadata": {},
   "source": [
    "# Backup the tables"
   ]
  },
  {
   "cell_type": "code",
   "execution_count": 4,
   "id": "8e7d97d3-a3b3-41ca-aadd-a306dbee2138",
   "metadata": {},
   "outputs": [
    {
     "name": "stdout",
     "output_type": "stream",
     "text": [
      "Table reviews_raw backed up to data/backups/reviews_raw_20250328_141909.parquet\n"
     ]
    }
   ],
   "source": [
    "db.backup_table('reviews_raw')"
   ]
  },
  {
   "cell_type": "markdown",
   "id": "3b150eef-f6e4-4313-bc71-0411e89ea7b4",
   "metadata": {},
   "source": [
    "# Get the latest backup and transfer to S3"
   ]
  },
  {
   "cell_type": "code",
   "execution_count": 5,
   "id": "3195b053-bad8-41af-84c6-84747fa3b524",
   "metadata": {},
   "outputs": [],
   "source": [
    "def get_latest_backup(table_name):\n",
    "    files = [f for f in os.listdir(\"data/backups\") if f.startswith(table_name)]\n",
    "    if not files:\n",
    "        raise FileNotFoundError(f\"No backup found for {table_name}.\")\n",
    "    \n",
    "    latest_file = max(files, key=lambda f: os.path.getctime(os.path.join(\"data/backups\", f)))\n",
    "    source_path = os.path.join(\"data/backups\", latest_file)\n",
    "\n",
    "    return source_path"
   ]
  },
  {
   "cell_type": "code",
   "execution_count": 6,
   "id": "28d8ee54-0562-4592-9c1b-0fd971fdee0d",
   "metadata": {},
   "outputs": [
    {
     "name": "stdout",
     "output_type": "stream",
     "text": [
      "Successfully uploaded data/backups/reviews_raw_20250328_141909.parquet to maeldieudonne/MLOps/\n"
     ]
    }
   ],
   "source": [
    "try:\n",
    "    file_path = get_latest_backup(\"reviews_raw\")\n",
    "    fs.put(file_path, destination_directory, content_type=\"parquet\", encoding=\"utf-8\")\n",
    "    print(f\"Successfully uploaded {file_path} to {destination_directory}\")\n",
    "except Exception as e:\n",
    "    print(f\"Error uploading file: {e}\")"
   ]
  },
  {
   "cell_type": "markdown",
   "id": "04fb3720-d3f4-4e41-b6fe-7395767e4c9e",
   "metadata": {},
   "source": [
    "# Get the latest backup from S3 and restore"
   ]
  },
  {
   "cell_type": "code",
   "execution_count": null,
   "id": "fa18b597-e042-4162-b76d-8f73adee33cb",
   "metadata": {},
   "outputs": [],
   "source": []
  }
 ],
 "metadata": {
  "kernelspec": {
   "display_name": "Python 3 (ipykernel)",
   "language": "python",
   "name": "python3"
  },
  "language_info": {
   "codemirror_mode": {
    "name": "ipython",
    "version": 3
   },
   "file_extension": ".py",
   "mimetype": "text/x-python",
   "name": "python",
   "nbconvert_exporter": "python",
   "pygments_lexer": "ipython3",
   "version": "3.12.9"
  }
 },
 "nbformat": 4,
 "nbformat_minor": 5
}
