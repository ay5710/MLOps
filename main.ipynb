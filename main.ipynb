{
 "cells": [
  {
   "cell_type": "code",
   "execution_count": null,
   "id": "95ebacec-5471-4a4d-8ab1-d1494a2652c0",
   "metadata": {},
   "outputs": [],
   "source": [
    "import s3fs\n",
    "import os\n",
    "import pandas as pd\n",
    "import re\n",
    "\n",
    "from datetime import datetime\n",
    "from dotenv import load_dotenv\n",
    "from src.scrapping import IMDb\n",
    "from src.utils.db import PostgreSQLDatabase"
   ]
  },
  {
   "cell_type": "code",
   "execution_count": null,
   "id": "66fa0864-1e2b-45b4-b2ae-b84f696ee97a",
   "metadata": {},
   "outputs": [],
   "source": [
    "db = PostgreSQLDatabase()\n",
    "db.connect()"
   ]
  },
  {
   "cell_type": "code",
   "execution_count": null,
   "id": "e4cce490-f876-4214-ae08-24c1f6b0f6ac",
   "metadata": {},
   "outputs": [],
   "source": [
    "movie_id = '0089885'\n",
    "# movie_id = '0489244'\n",
    "# movie_id = '0101414'\n",
    "# movie_id = '6208148'"
   ]
  },
  {
   "cell_type": "markdown",
   "id": "97e5fe95-e1b9-418d-ba42-624f0d538de4",
   "metadata": {},
   "source": [
    "# Scrapping\n",
    "\n",
    "Record the timestamp before lauching scraping and pass it as an argument to the scrapping functions.\n",
    "\n",
    "Reviews needing analysis will have the same timestamp as the movie.\n",
    "\n",
    "Or, simply select review whose timestamp is > (posterior) to that of the movie"
   ]
  },
  {
   "cell_type": "code",
   "execution_count": null,
   "id": "2c424daa-9758-44c9-9a0a-88c17cfa0ccf",
   "metadata": {},
   "outputs": [],
   "source": [
    "scrapper = IMDb()"
   ]
  },
  {
   "cell_type": "code",
   "execution_count": null,
   "id": "4d688db8-b840-4778-b9d0-a366a8dffbbf",
   "metadata": {},
   "outputs": [],
   "source": [
    "movie_title, release_date = scrapper.get_movie(movie_id)\n",
    "total_reviews = scrapper.get_number_of_reviews(movie_id)\n",
    "reviews_df = scrapper.get_reviews(movie_id)"
   ]
  },
  {
   "cell_type": "code",
   "execution_count": null,
   "id": "1cf75a8c-e3a7-45a7-adec-ba0edd98458b",
   "metadata": {},
   "outputs": [],
   "source": [
    "review_id = '10392322'\n",
    "upvotes, downvotes = scrapper.get_votes(review_id)"
   ]
  },
  {
   "cell_type": "code",
   "execution_count": null,
   "id": "50561f0a-a60a-4e7e-86e3-28637efa6b85",
   "metadata": {},
   "outputs": [],
   "source": [
    "scrapper.close()"
   ]
  },
  {
   "cell_type": "markdown",
   "id": "c1904452-71f1-43ab-b999-351bdbeb670b",
   "metadata": {},
   "source": [
    "# Sentiment analysis"
   ]
  },
  {
   "cell_type": "code",
   "execution_count": null,
   "id": "569774ed-f1d6-428b-916d-9f4bb953ea59",
   "metadata": {},
   "outputs": [],
   "source": [
    "movie = db.query_data('movies', condition=f'movie_id = {movie_id}')\n",
    "reviews = db.query_data('reviews_raw', condition=f'movie_id = {movie_id}')"
   ]
  },
  {
   "cell_type": "code",
   "execution_count": null,
   "id": "9405f973-be21-4bde-b3e7-3301f4fbdcfe",
   "metadata": {},
   "outputs": [],
   "source": [
    "print(f\"[INFO] Found {len(reviews)} reviews to analyse for {movie[0][1]}\")"
   ]
  },
  {
   "cell_type": "code",
   "execution_count": null,
   "id": "0521adc4-49f1-4256-9fc8-2b17a87844d8",
   "metadata": {},
   "outputs": [],
   "source": [
    "for review in reviews:\n",
    "    # ...\n",
    "    # sentiment-analysis.py --review_id=review[1]"
   ]
  },
  {
   "cell_type": "markdown",
   "id": "1b09a4be-9ad3-4d68-a04b-a198d279dc4b",
   "metadata": {},
   "source": [
    "# Backup"
   ]
  },
  {
   "cell_type": "code",
   "execution_count": null,
   "id": "eb5ade21-d6ac-4f4a-ac9e-62d9d8ac9f55",
   "metadata": {},
   "outputs": [],
   "source": [
    "S3_ENDPOINT_URL = 'https://' + os.environ['AWS_S3_ENDPOINT']\n",
    "fs = s3fs.S3FileSystem(client_kwargs={'endpoint_url': S3_ENDPOINT_URL})\n",
    "\n",
    "bucket_name = 'maeldieudonne'\n",
    "destination = bucket_name + '/diffusion/'"
   ]
  },
  {
   "cell_type": "code",
   "execution_count": null,
   "id": "8e7d97d3-a3b3-41ca-aadd-a306dbee2138",
   "metadata": {},
   "outputs": [],
   "source": [
    "for table in ['movies', 'reviews_raw', 'reviews_sentiments']:\n",
    "    db.backup_table(table)"
   ]
  },
  {
   "cell_type": "code",
   "execution_count": null,
   "id": "b9a534e0-cfea-44c7-8e86-e18da9078202",
   "metadata": {},
   "outputs": [],
   "source": [
    "def get_latest_local_backup(table_name):\n",
    "    backup_files = [f for f in os.listdir(\"data/backups\") if f.startswith(table_name)]\n",
    "    \n",
    "    if not backup_files:\n",
    "        print(f\"[INFO] No local backup found for {table_name}\")\n",
    "        return None\n",
    "\n",
    "    else:\n",
    "        latest_backup = max(backup_files, key=lambda f: os.path.getctime(os.path.join(\"data/backups\", f)))\n",
    "        file_path = os.path.join(\"data/backups\", latest_backup)\n",
    "        return file_path"
   ]
  },
  {
   "cell_type": "code",
   "execution_count": null,
   "id": "6557793c-002d-4f27-9d17-43dc77fd2ac5",
   "metadata": {},
   "outputs": [],
   "source": [
    "for table in ['movies', 'reviews_raw', 'reviews_sentiments']:   \n",
    "    file_path = get_latest_local_backup(table)\n",
    "        \n",
    "    if file_path is not None:\n",
    "        try:\n",
    "            fs.put(file_path, destination, content_type=\"parquet\", encoding=\"utf-8\")\n",
    "            os.remove(file_path)\n",
    "            print(f\"[INFO] Successfully uploaded {file_path} to {destination}\")\n",
    "        except Exception as e:\n",
    "            print(f\"[ERROR] Failed uploading {file_path} to {destination}: {e}\")"
   ]
  },
  {
   "cell_type": "code",
   "execution_count": null,
   "id": "fa18b597-e042-4162-b76d-8f73adee33cb",
   "metadata": {},
   "outputs": [],
   "source": [
    "db.close_connection()"
   ]
  }
 ],
 "metadata": {
  "kernelspec": {
   "display_name": "Python 3 (ipykernel)",
   "language": "python",
   "name": "python3"
  },
  "language_info": {
   "codemirror_mode": {
    "name": "ipython",
    "version": 3
   },
   "file_extension": ".py",
   "mimetype": "text/x-python",
   "name": "python",
   "nbconvert_exporter": "python",
   "pygments_lexer": "ipython3",
   "version": "3.12.9"
  }
 },
 "nbformat": 4,
 "nbformat_minor": 5
}
