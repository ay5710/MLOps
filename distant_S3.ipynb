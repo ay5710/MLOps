{
 "cells": [
  {
   "cell_type": "code",
   "execution_count": null,
   "id": "95ebacec-5471-4a4d-8ab1-d1494a2652c0",
   "metadata": {},
   "outputs": [],
   "source": [
    "import os\n",
    "import s3fs"
   ]
  },
  {
   "cell_type": "markdown",
   "id": "27b91b10-76c6-4ed3-9b7b-d484547a3d15",
   "metadata": {},
   "source": [
    "https://datalab.sspcloud.fr/account/storage"
   ]
  },
  {
   "cell_type": "code",
   "execution_count": null,
   "id": "b9b887b6-a2ee-4d96-bbf6-1df7c65a89cb",
   "metadata": {},
   "outputs": [],
   "source": [
    "os.environ[\"AWS_ACCESS_KEY_ID\"] = '55GT9SAZH1ST6T1R857G'\n",
    "os.environ[\"AWS_SECRET_ACCESS_KEY\"] = 'dCP+V4NfJTBWf3KlJBSWVNmPyT8UA0HZ7rbdeZEL'\n",
    "os.environ[\"AWS_SESSION_TOKEN\"] = 'eyJhbGciOiJIUzUxMiIsInR5cCI6IkpXVCJ9.eyJhY2Nlc3NLZXkiOiI1NUdUOVNBWkgxU1Q2VDFSODU3RyIsImFsbG93ZWQtb3JpZ2lucyI6WyIqIl0sImF1ZCI6WyJtaW5pby1kYXRhbm9kZSIsIm9ueXhpYSIsImFjY291bnQiXSwiYXV0aF90aW1lIjoxNzQyNTYzOTUzLCJhenAiOiJvbnl4aWEiLCJlbWFpbCI6Im1hZWwuZGlldWRvbm5lQGVuc2FlLmZyIiwiZW1haWxfdmVyaWZpZWQiOnRydWUsImV4cCI6MTc0NDI2OTU5MiwiZmFtaWx5X25hbWUiOiJEaWV1ZG9ubsOpIiwiZ2l2ZW5fbmFtZSI6Ik1hw6tsIiwiZ3JvdXBzIjpbIlVTRVJfT05ZWElBIl0sImlhdCI6MTc0MzY2NDc5MiwiaXNzIjoiaHR0cHM6Ly9hdXRoLmxhYi5zc3BjbG91ZC5mci9hdXRoL3JlYWxtcy9zc3BjbG91ZCIsImp0aSI6IjhkNzcwOTBhLWQ1NWItNDJhNy05MmU5LWNhMWNkZTA0NzBiNyIsIm5hbWUiOiJNYcOrbCBEaWV1ZG9ubsOpIiwicG9saWN5Ijoic3Rzb25seSIsInByZWZlcnJlZF91c2VybmFtZSI6Im1hZWxkaWV1ZG9ubmUiLCJyZWFsbV9hY2Nlc3MiOnsicm9sZXMiOlsib2ZmbGluZV9hY2Nlc3MiLCJ1bWFfYXV0aG9yaXphdGlvbiIsImRlZmF1bHQtcm9sZXMtc3NwY2xvdWQiXX0sInJlc291cmNlX2FjY2VzcyI6eyJhY2NvdW50Ijp7InJvbGVzIjpbIm1hbmFnZS1hY2NvdW50IiwibWFuYWdlLWFjY291bnQtbGlua3MiLCJ2aWV3LXByb2ZpbGUiXX19LCJyb2xlcyI6WyJvZmZsaW5lX2FjY2VzcyIsInVtYV9hdXRob3JpemF0aW9uIiwiZGVmYXVsdC1yb2xlcy1zc3BjbG91ZCJdLCJzY29wZSI6Im9wZW5pZCBwcm9maWxlIGdyb3VwcyBlbWFpbCIsInNpZCI6IjEwN2QzNWMyLWVhOTYtNDM5My1hOTAxLTliNGFlMGJhNzcyYyIsInN1YiI6ImE4Mjg1ZGM3LWJjYzgtNDA1NS1iOGRjLTEyOTc1OTQwOTViYiIsInR5cCI6IkJlYXJlciJ9.2-0H28tgHMCzTWJm7xlbdUC4Gzp4VU0dHRCfjXiCI6uBhVde7qO1Zzx3s-4sr-i9sjxWtk04pVRnph5JTkgUoA'\n",
    "os.environ[\"AWS_DEFAULT_REGION\"] = 'us-east-1'\n",
    "os.environ['AWS_S3_ENDPOINT'] = 'minio.lab.sspcloud.fr'\n",
    "fs = s3fs.S3FileSystem(\n",
    "    client_kwargs={'endpoint_url': 'https://' + os.environ['AWS_S3_ENDPOINT']},\n",
    "    key = os.environ[\"AWS_ACCESS_KEY_ID\"], \n",
    "    secret = os.environ[\"AWS_SECRET_ACCESS_KEY\"], \n",
    "    token = os.environ[\"AWS_SESSION_TOKEN\"])"
   ]
  },
  {
   "cell_type": "code",
   "execution_count": null,
   "id": "5a8443ca-7f5e-4043-aad9-7a834f6ec256",
   "metadata": {
    "scrolled": true
   },
   "outputs": [],
   "source": [
    "fs.ls(\"donnees-insee\")"
   ]
  },
  {
   "cell_type": "code",
   "execution_count": null,
   "id": "102ebd02-5c81-40e4-95e4-5c3dc6580c4c",
   "metadata": {},
   "outputs": [],
   "source": [
    "bucket_name = 'maeldieudonne'\n",
    "destination = bucket_name + '/diffusion/'"
   ]
  },
  {
   "cell_type": "code",
   "execution_count": null,
   "id": "32857643-0e27-4db6-9370-d74262de48cb",
   "metadata": {
    "scrolled": true
   },
   "outputs": [],
   "source": [
    "[f['name'] for f in fs.listdir(destination)]"
   ]
  }
 ],
 "metadata": {
  "kernelspec": {
   "display_name": "Python 3 (ipykernel)",
   "language": "python",
   "name": "python3"
  },
  "language_info": {
   "codemirror_mode": {
    "name": "ipython",
    "version": 3
   },
   "file_extension": ".py",
   "mimetype": "text/x-python",
   "name": "python",
   "nbconvert_exporter": "python",
   "pygments_lexer": "ipython3",
   "version": "3.12.9"
  }
 },
 "nbformat": 4,
 "nbformat_minor": 5
}
